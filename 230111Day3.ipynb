{
  "nbformat": 4,
  "nbformat_minor": 0,
  "metadata": {
    "colab": {
      "provenance": [],
      "authorship_tag": "ABX9TyNnHlTOSHHx9aGbDsCNAFpM",
      "include_colab_link": true
    },
    "kernelspec": {
      "name": "python3",
      "display_name": "Python 3"
    },
    "language_info": {
      "name": "python"
    }
  },
  "cells": [
    {
      "cell_type": "markdown",
      "metadata": {
        "id": "view-in-github",
        "colab_type": "text"
      },
      "source": [
        "<a href=\"https://colab.research.google.com/github/kjungw1025/numguess/blob/main/230111Day3.ipynb\" target=\"_parent\"><img src=\"https://colab.research.google.com/assets/colab-badge.svg\" alt=\"Open In Colab\"/></a>"
      ]
    },
    {
      "cell_type": "code",
      "execution_count": null,
      "metadata": {
        "colab": {
          "base_uri": "https://localhost:8080/"
        },
        "id": "rPcp20Bp3KHG",
        "outputId": "47fe3a29-bc4d-4fd2-c9cd-8693628e2f62"
      },
      "outputs": [
        {
          "output_type": "stream",
          "name": "stdout",
          "text": [
            "원하는 수 입력하시오: 5\n",
            "120\n"
          ]
        }
      ],
      "source": [
        "fact = 1\n",
        "n = int(input(\"원하는 수 입력하시오: \"))\n",
        "for i in range(2, n + 1):\n",
        "  fact = fact * i\n",
        "print(fact)"
      ]
    },
    {
      "cell_type": "code",
      "source": [
        "from math import factorial\n",
        "factorial(5)"
      ],
      "metadata": {
        "colab": {
          "base_uri": "https://localhost:8080/"
        },
        "id": "8iGAdgEf-9vO",
        "outputId": "0762a3b9-fcb5-4968-b55e-4ff0df490ba0"
      },
      "execution_count": null,
      "outputs": [
        {
          "output_type": "execute_result",
          "data": {
            "text/plain": [
              "120"
            ]
          },
          "metadata": {},
          "execution_count": 8
        }
      ]
    },
    {
      "cell_type": "code",
      "source": [
        "v = [\n",
        "    [1, 0, 7, 0],\n",
        "    [0, 2, 0, 9],\n",
        "    [0, 6, 3, 7],\n",
        "    [4, 0, 5, 1],\n",
        "]\n",
        "\n",
        "sum = 0\n",
        "for i in v:\n",
        "  for j in i:\n",
        "    sum += j\n",
        "  \n",
        "print(sum)"
      ],
      "metadata": {
        "colab": {
          "base_uri": "https://localhost:8080/"
        },
        "id": "6dYv_jt77W6l",
        "outputId": "c51ede11-9fec-4050-86cb-9b5efa8f7e4b"
      },
      "execution_count": null,
      "outputs": [
        {
          "output_type": "stream",
          "name": "stdout",
          "text": [
            "45\n"
          ]
        }
      ]
    },
    {
      "cell_type": "code",
      "source": [
        "a_words = []\n",
        "with open('./a_word_list.txt') as f:\n",
        "  textlines = f.readlines()\n",
        "  for item in textlines:\n",
        "    a_words.append(item.replace('\\n', ''))\n",
        "\n",
        "print(a_words)"
      ],
      "metadata": {
        "colab": {
          "base_uri": "https://localhost:8080/"
        },
        "id": "KbXpEzTeBDWk",
        "outputId": "84f1ac0e-c535-4cbe-e480-bd3fd68692a9"
      },
      "execution_count": null,
      "outputs": [
        {
          "output_type": "stream",
          "name": "stdout",
          "text": [
            "['aback', 'abacus', 'abandon', 'abandoned', 'abandonment', 'abashed', 'abate', 'abbey', 'abbr.', 'abbreviate', 'abbreviation', 'ABC', \"ABC's\", 'abdicate', 'abdication', 'abdomen', 'abdominal', 'abduct', 'abduction', 'aberration', 'abet', 'abhor', 'abhorrence', 'abhorrent', 'abide', 'abiding', 'ability', 'abject', 'ablaze', 'able', 'able-bodied', 'ably', 'abnormal', 'abnormality', 'abnormally', 'aboard', 'abolish', 'abolition', 'abolitionist', 'abominable', 'aboriginal', 'aborigine', 'abort', 'abortion', 'abortive', 'abound', 'about', 'about-face', 'above', 'aboveboard', 'abrasive', 'abrasively', 'abreast', 'abridge', 'abridgment', 'abroad', 'abrupt', 'abruptly', 'abruptness', 'abscess', 'abscond', 'absence', 'absent', 'absentee', 'absenteeism', 'absently', 'absent-minded', 'absent-mindedly', 'absent-mindedness', 'absolute', 'absolutely', 'absolve', 'absorb', 'absorbed', 'absorbent', 'absorbing', 'absorption', 'abstain', 'abstention', 'abstinence', 'abstinent', 'abstract', 'abstraction', 'absurd', 'absurdity', 'absurdly', 'abundance', 'abundant', 'abundantly', 'abuse', 'abusive', 'abysmal', 'abysmally', 'abyss', 'AC', 'academic', 'academically', 'academy', 'accelerate', 'acceleration', 'accelerator', 'accent', 'accented', 'accentuate', 'accept', 'acceptability', 'acceptable', 'acceptably', 'acceptance', 'accepted', 'access', 'accessibility', 'accessible', 'accessory', 'accident', 'accidental', 'accidentally', 'accident-prone', 'acclaim', 'acclaimed', 'acclimate', 'acclimation', 'accolade', 'accommodate', 'accommodating', 'accommodation', 'accommodations', 'accompaniment', 'accompanist', 'accompany', 'accomplice', 'accomplish', 'accomplished', 'accomplishment', 'accord', 'accordance', 'accordingly', 'according to', 'accordion', 'accost', 'account', 'accountability', 'accountable', 'accountant', 'accounting', 'accreditation', 'accredited', 'accrue', 'accumulate', 'accumulation', 'accuracy', 'accurate', 'accurately', 'accusation', 'accuse', 'accused', 'accuser', 'accusing', 'accusingly', 'accustom', 'accustomed', 'ace', 'acerbic', 'ache', 'achieve', 'achievement', 'achiever', \"Achilles' heel\", 'achy', 'acid', 'acidic', 'acidity', 'acid rain', 'acknowledge', 'acknowledged', 'acknowledgment', 'acne', 'acorn', 'acoustic', 'acoustics', 'acquaint', 'acquaintance', 'acquainted', 'acquiesce', 'acquiescence', 'acquire', 'acquisition', 'acquit', 'acquittal', 'acre', 'acrid', 'acrimonious', 'acrimony', 'acrobat', 'acrobatic', 'acrobatics', 'acronym', 'across', 'across from', 'across-the-board', 'acrylic', 'ACT', 'act', 'acting', 'action', 'activate', 'activation', 'active', 'activism', 'activist', 'activity', 'actor', 'actress', 'actual', 'actuality', 'actualization', 'actually', 'acumen', 'acupuncture', 'acute', 'acute angle', 'acutely', 'ad', 'A.D.', 'adage', 'adamant', 'adamantly', \"Adam's apple\", 'adapt', 'adaptable', 'adaptation', 'adapter', 'add', 'addict', 'addicted', 'addiction', 'addictive', 'addition', 'additional', 'additionally', 'additive', 'address', 'adept', 'adeptly', 'adequacy', 'adequate', 'adequately', 'adhere', 'adherence', 'adherent', 'adhesion', 'adhesive', 'ad hoc', 'adjacent', 'adjectival', 'adjective', 'adjoin', 'adjoining', 'adjourn', 'adjournment', 'adjudicate', 'adjudicator', 'adjunct', 'adjust', 'adjustable', 'adjustment', 'ad lib', 'ad-lib', 'administer', 'administration', 'administrative', 'administrator', 'admirable', 'admirably', 'admiral', 'admiration', 'admire', 'admirer', 'admiring', 'admiringly', 'admissible', 'admission', 'admit', 'admittance', 'admittedly', 'admonish', 'admonition', 'adobe', 'adolescence', 'adolescent', 'adopt', 'adopted', 'adoption', 'adoptive', 'adorable', 'adoration', 'adore', 'adorn', 'adornment', 'adrenaline', 'adrift', 'adroit', 'adroitly', 'adulation', 'adult', 'adulterate', 'adulteration', 'adultery', 'advance', 'advanced', 'advancement', 'advantage', 'advantageous', 'Advent', 'advent', 'adventure', 'adventurer', 'adventurous', 'adverb', 'adverbial', 'adversary', 'adverse', 'adversely', 'adversity', 'advertise', 'advertisement', 'advertiser', 'advertising', 'advice', 'advisable', 'advise', 'adviser', 'advisory', 'advocacy', 'advocate', 'aerial', 'aerobic', 'aerobics', 'aerodynamic', 'aerodynamics', 'aerosol', 'aerospace', 'aesthetic', 'aesthetically', 'aesthetics', 'afar', 'affable', 'affably', 'affair', 'affairs', 'affect', 'affectation', 'affected', 'affection', 'affectionate', 'affectionately', 'affidavit', 'affiliate', 'affiliated', 'affiliation', 'affinity', 'affirm', 'affirmation', 'affirmative', 'affirmative action', 'affirmatively', 'affix', 'afflict', 'affliction', 'affluence', 'affluent', 'afford', 'affordable', 'affront', 'afloat', 'afraid', 'afresh', 'Africa', 'African', 'African-American', 'after', 'aftereffect', 'afterlife', 'aftermath', 'afternoon', 'aftershave', 'aftershock', 'afterthought', 'afterward', 'afterwards', 'again', 'against', 'age', 'aged', 'agency', 'agenda', 'agent', 'ages', 'aggravate', 'aggravating', 'aggravation', 'aggression', 'aggressive', 'aggressively', 'aggressiveness', 'aggressor', 'aggrieved', 'aghast', 'agile', 'agility', 'aging', 'agitate', 'agitated', 'agitation', 'agitator', 'agnostic', 'agnosticism', 'ago', 'agonize', 'agonized', 'agonizing', 'agonizingly', 'agony', 'agree', 'agreeable', 'agreeably', 'agreed', 'agreement', 'agricultural', 'agriculture', 'ah', 'aha', 'ahead', 'aid', 'aide', 'AIDS', 'ailing', 'ailment', 'aim', 'aimless', 'aimlessly', \"ain't\", 'air', 'air bag', 'air base', 'airborne', 'air-conditioned', 'air conditioner', 'air conditioning', 'aircraft', 'aircraft carrier', 'airfare', 'airfield', 'air force', 'airily', 'airing', 'airless', 'airline', 'airliner', 'airmail', 'airplane', 'airport', 'air raid', 'airs', 'airspace', 'airstrip', 'airtight', 'air time', 'air traffic controller', 'airwaves', 'airy', 'aisle', 'ajar', 'akin', 'a la carte', 'a la mode', 'alarm', 'alarm clock', 'alarmed', 'alarming', 'alarmingly', 'alarmist', 'alas', 'albeit', 'albino', 'album', 'alcohol', 'alcoholic', 'alcoholism', 'alcove', 'alderman', 'alderwoman', 'ale', 'alert', 'alfalfa', 'algae', 'algebra', 'algebraic', 'algorithm', 'alias', 'alibi', 'alien', 'alienate', 'alienation', 'alight', 'align', 'alignment', 'alike', 'alimony', 'alive', 'alkali', 'alkaline', 'all', 'Allah', 'all-American', 'all-around', 'allay', 'all-clear', 'allegation', 'allege', 'alleged', 'allegedly', 'allegiance', 'allegorical', 'allegory', 'allergic', 'allergy', 'alleviate', 'alleviation', 'alley', 'alliance', 'allied', 'alligator', 'all-inclusive', 'allocate', 'allocation', 'allot', 'allotment', 'all-out', 'allow', 'allowable', 'allowance', 'alloy', 'all right', 'all-star', 'allude', 'allure', 'alluring', 'allusion', 'ally', 'alma mater', 'almanac', 'almighty', 'almond', 'almost', 'alms', 'aloft', 'aloha', 'alone', 'along', 'alongside', 'aloof', 'aloud', 'alphabet', 'alphabetical', 'alphabetically', 'alpine', 'already', 'alright', 'also', 'altar', 'alter', 'alteration', 'altercation', 'alternate', 'alternately', 'alternation', 'alternative', 'alternatively', 'although', 'altitude', 'alto', 'altogether', 'altruism', 'altruistic', 'aluminum', 'alumna', 'alumnae', 'alumni', 'alumnus', 'always', 'AM', 'am', 'A.M.', 'amalgamate', 'amalgamation', 'amass', 'amateur', 'amateurish', 'amaze', 'amazed', 'amazement', 'amazing', 'amazingly', 'ambassador', 'ambassadorial', 'amber', 'ambiance', 'ambidextrous', 'ambiguity', 'ambiguous', 'ambiguously', 'ambition', 'ambitious', 'ambitiously', 'ambivalence', 'ambivalent', 'amble', 'ambulance', 'ambush', 'ameliorate', 'amelioration', 'amen', 'amenable', 'amend', 'amendment', 'amends', 'amenity', 'America', 'American', 'Americana', 'American dream', 'American Indian', 'Americanism', 'amiable', 'amiably', 'amicable', 'amicably', 'amid', 'amidst', 'amiss', 'ammo', 'ammonia', 'ammunition', 'amnesia', 'amnesiac', 'amnesty', 'amoeba', 'amok', 'among', 'amongst', 'amoral', 'amorous', 'amorphous', 'amount', 'amp', 'ampere', 'amphetamine', 'amphibian', 'amphibious']\n"
          ]
        }
      ]
    },
    {
      "cell_type": "code",
      "source": [
        "len_count = {}\n",
        "for i in map(len, a_words):\n",
        "  if i in len_count:\n",
        "    len_count[i] += 1\n",
        "  else:\n",
        "    len_count[i] = 1\n",
        "    \n",
        "print(len_count)"
      ],
      "metadata": {
        "colab": {
          "base_uri": "https://localhost:8080/"
        },
        "id": "sxRkFTqoDMjt",
        "outputId": "5912d073-1047-4517-e9d6-ea8f5ea368e6"
      },
      "execution_count": null,
      "outputs": [
        {
          "output_type": "stream",
          "name": "stdout",
          "text": [
            "{5: 67, 6: 80, 7: 85, 9: 89, 11: 47, 10: 86, 12: 25, 3: 14, 8: 96, 4: 28, 13: 15, 15: 4, 17: 1, 2: 5, 14: 12, 16: 4, 18: 1, 22: 1}\n"
          ]
        }
      ]
    },
    {
      "cell_type": "code",
      "source": [
        "len_count = {}\n",
        "\n",
        "for i in map(len, a_words):\n",
        "  len_count[i] = len_count.get(i, 0) + 1\n",
        "\n",
        "print(len_count)"
      ],
      "metadata": {
        "colab": {
          "base_uri": "https://localhost:8080/"
        },
        "id": "hUSNQmi0DztT",
        "outputId": "6aad555d-099e-47cf-9d1c-8f4ba18c92fe"
      },
      "execution_count": null,
      "outputs": [
        {
          "output_type": "stream",
          "name": "stdout",
          "text": [
            "{5: 67, 6: 80, 7: 85, 9: 89, 11: 47, 10: 86, 12: 25, 3: 14, 8: 96, 4: 28, 13: 15, 15: 4, 17: 1, 2: 5, 14: 12, 16: 4, 18: 1, 22: 1}\n"
          ]
        }
      ]
    },
    {
      "cell_type": "code",
      "source": [
        "a_word_by_len = {}\n",
        "for word in a_words:\n",
        "  a_word_by_len.setdefault(len(word), []).append(word)\n",
        "  # a_word_by_len이라는 딕셔너리를 만들고 단어 길이에 해당하는 키가 있으면 그대로 넣고\n",
        "  # 단어 길이에 해당하는 키가 없다면 빈 리스트를 만들고 그 리스트에 append\n",
        "\n",
        "a_word_by_len"
      ],
      "metadata": {
        "colab": {
          "base_uri": "https://localhost:8080/"
        },
        "id": "dlkjcnzkEyMr",
        "outputId": "451d78ab-010a-4c8c-dbf8-3597b3062cfb"
      },
      "execution_count": null,
      "outputs": [
        {
          "output_type": "execute_result",
          "data": {
            "text/plain": [
              "{5: ['aback',\n",
              "  'abate',\n",
              "  'abbey',\n",
              "  'abbr.',\n",
              "  \"ABC's\",\n",
              "  'abhor',\n",
              "  'abide',\n",
              "  'abort',\n",
              "  'about',\n",
              "  'above',\n",
              "  'abuse',\n",
              "  'abyss',\n",
              "  'acorn',\n",
              "  'acrid',\n",
              "  'actor',\n",
              "  'acute',\n",
              "  'adage',\n",
              "  'adapt',\n",
              "  'adept',\n",
              "  'admit',\n",
              "  'adobe',\n",
              "  'adopt',\n",
              "  'adore',\n",
              "  'adorn',\n",
              "  'adult',\n",
              "  'affix',\n",
              "  'after',\n",
              "  'again',\n",
              "  'agent',\n",
              "  'agile',\n",
              "  'aging',\n",
              "  'agony',\n",
              "  'agree',\n",
              "  'ahead',\n",
              "  \"ain't\",\n",
              "  'aisle',\n",
              "  'alarm',\n",
              "  'album',\n",
              "  'alert',\n",
              "  'algae',\n",
              "  'alias',\n",
              "  'alibi',\n",
              "  'alien',\n",
              "  'align',\n",
              "  'alike',\n",
              "  'alive',\n",
              "  'Allah',\n",
              "  'allay',\n",
              "  'alley',\n",
              "  'allot',\n",
              "  'allow',\n",
              "  'alloy',\n",
              "  'aloft',\n",
              "  'aloha',\n",
              "  'alone',\n",
              "  'along',\n",
              "  'aloof',\n",
              "  'aloud',\n",
              "  'altar',\n",
              "  'alter',\n",
              "  'amass',\n",
              "  'amaze',\n",
              "  'amber',\n",
              "  'amble',\n",
              "  'amend',\n",
              "  'amiss',\n",
              "  'among'],\n",
              " 6: ['abacus',\n",
              "  'abduct',\n",
              "  'abject',\n",
              "  'ablaze',\n",
              "  'aboard',\n",
              "  'abound',\n",
              "  'abroad',\n",
              "  'abrupt',\n",
              "  'absent',\n",
              "  'absorb',\n",
              "  'absurd',\n",
              "  'accent',\n",
              "  'accept',\n",
              "  'access',\n",
              "  'accord',\n",
              "  'accost',\n",
              "  'accrue',\n",
              "  'accuse',\n",
              "  'acidic',\n",
              "  'acquit',\n",
              "  'across',\n",
              "  'acting',\n",
              "  'action',\n",
              "  'active',\n",
              "  'actual',\n",
              "  'acumen',\n",
              "  'addict',\n",
              "  'adhere',\n",
              "  'ad hoc',\n",
              "  'adjoin',\n",
              "  'adjust',\n",
              "  'ad lib',\n",
              "  'ad-lib',\n",
              "  'admire',\n",
              "  'adrift',\n",
              "  'adroit',\n",
              "  'Advent',\n",
              "  'advent',\n",
              "  'adverb',\n",
              "  'advice',\n",
              "  'advise',\n",
              "  'aerial',\n",
              "  'affair',\n",
              "  'affect',\n",
              "  'affirm',\n",
              "  'afford',\n",
              "  'afloat',\n",
              "  'afraid',\n",
              "  'afresh',\n",
              "  'Africa',\n",
              "  'agency',\n",
              "  'agenda',\n",
              "  'aghast',\n",
              "  'agreed',\n",
              "  'ailing',\n",
              "  'airily',\n",
              "  'airing',\n",
              "  'albeit',\n",
              "  'albino',\n",
              "  'alcove',\n",
              "  'alight',\n",
              "  'alkali',\n",
              "  'allege',\n",
              "  'allied',\n",
              "  'allude',\n",
              "  'allure',\n",
              "  'almond',\n",
              "  'almost',\n",
              "  'alpine',\n",
              "  'alumna',\n",
              "  'alumni',\n",
              "  'always',\n",
              "  'amazed',\n",
              "  'ambush',\n",
              "  'amends',\n",
              "  'amidst',\n",
              "  'amoeba',\n",
              "  'amoral',\n",
              "  'amount',\n",
              "  'ampere'],\n",
              " 7: ['abandon',\n",
              "  'abashed',\n",
              "  'abdomen',\n",
              "  'abiding',\n",
              "  'ability',\n",
              "  'abolish',\n",
              "  'abreast',\n",
              "  'abridge',\n",
              "  'abscess',\n",
              "  'abscond',\n",
              "  'absence',\n",
              "  'absolve',\n",
              "  'abstain',\n",
              "  'abusive',\n",
              "  'abysmal',\n",
              "  'academy',\n",
              "  'acclaim',\n",
              "  'account',\n",
              "  'accused',\n",
              "  'accuser',\n",
              "  'acerbic',\n",
              "  'achieve',\n",
              "  'acidity',\n",
              "  'acquire',\n",
              "  'acrobat',\n",
              "  'acronym',\n",
              "  'acrylic',\n",
              "  'actress',\n",
              "  'acutely',\n",
              "  'adamant',\n",
              "  'adapter',\n",
              "  'address',\n",
              "  'adeptly',\n",
              "  'adjourn',\n",
              "  'adjunct',\n",
              "  'admiral',\n",
              "  'admirer',\n",
              "  'adopted',\n",
              "  'advance',\n",
              "  'adverse',\n",
              "  'adviser',\n",
              "  'aerobic',\n",
              "  'aerosol',\n",
              "  'affable',\n",
              "  'affably',\n",
              "  'affairs',\n",
              "  'afflict',\n",
              "  'affront',\n",
              "  'African',\n",
              "  'against',\n",
              "  'agility',\n",
              "  'agitate',\n",
              "  'agonize',\n",
              "  'ailment',\n",
              "  'aimless',\n",
              "  'air bag',\n",
              "  'airfare',\n",
              "  'airless',\n",
              "  'airline',\n",
              "  'airmail',\n",
              "  'airport',\n",
              "  'alarmed',\n",
              "  'alcohol',\n",
              "  'alfalfa',\n",
              "  'algebra',\n",
              "  'alimony',\n",
              "  'alleged',\n",
              "  'allergy',\n",
              "  'all-out',\n",
              "  'almanac',\n",
              "  'already',\n",
              "  'alright',\n",
              "  'alumnae',\n",
              "  'alumnus',\n",
              "  'amateur',\n",
              "  'amazing',\n",
              "  'amenity',\n",
              "  'America',\n",
              "  'amiable',\n",
              "  'amiably',\n",
              "  'ammonia',\n",
              "  'amnesia',\n",
              "  'amnesty',\n",
              "  'amongst',\n",
              "  'amorous'],\n",
              " 9: ['abandoned',\n",
              "  'abdominal',\n",
              "  'abduction',\n",
              "  'abhorrent',\n",
              "  'abolition',\n",
              "  'aborigine',\n",
              "  'absorbent',\n",
              "  'absorbing',\n",
              "  'abstinent',\n",
              "  'absurdity',\n",
              "  'abundance',\n",
              "  'abysmally',\n",
              "  'accessory',\n",
              "  'acclaimed',\n",
              "  'acclimate',\n",
              "  'accompany',\n",
              "  'accordion',\n",
              "  'acid rain',\n",
              "  'acoustics',\n",
              "  'acquiesce',\n",
              "  'acquittal',\n",
              "  'acrobatic',\n",
              "  'actuality',\n",
              "  'adamantly',\n",
              "  'adaptable',\n",
              "  'addiction',\n",
              "  'addictive',\n",
              "  'adherence',\n",
              "  'adjective',\n",
              "  'adjoining',\n",
              "  'admirable',\n",
              "  'admirably',\n",
              "  'admission',\n",
              "  'adoration',\n",
              "  'adornment',\n",
              "  'adulation',\n",
              "  'advantage',\n",
              "  'adventure',\n",
              "  'adverbial',\n",
              "  'adversary',\n",
              "  'adversely',\n",
              "  'adversity',\n",
              "  'advertise',\n",
              "  'advisable',\n",
              "  'aerospace',\n",
              "  'aesthetic',\n",
              "  'affection',\n",
              "  'affidavit',\n",
              "  'affiliate',\n",
              "  'affluence',\n",
              "  'afterlife',\n",
              "  'aftermath',\n",
              "  'afternoon',\n",
              "  'afterward',\n",
              "  'aggravate',\n",
              "  'aggressor',\n",
              "  'aggrieved',\n",
              "  'agitation',\n",
              "  'agonizing',\n",
              "  'agreeable',\n",
              "  'agreeably',\n",
              "  'agreement',\n",
              "  'aimlessly',\n",
              "  'air force',\n",
              "  'a la mode',\n",
              "  'alcoholic',\n",
              "  'algebraic',\n",
              "  'algorithm',\n",
              "  'alignment',\n",
              "  'all-clear',\n",
              "  'allegedly',\n",
              "  'alleviate',\n",
              "  'alligator',\n",
              "  'allotment',\n",
              "  'allowable',\n",
              "  'allowance',\n",
              "  'all right',\n",
              "  'alongside',\n",
              "  'alternate',\n",
              "  'amazement',\n",
              "  'amazingly',\n",
              "  'ambiguity',\n",
              "  'ambiguous',\n",
              "  'ambitious',\n",
              "  'ambulance',\n",
              "  'amendment',\n",
              "  'Americana',\n",
              "  'amorphous',\n",
              "  'amphibian'],\n",
              " 11: ['abandonment',\n",
              "  'able-bodied',\n",
              "  'abnormality',\n",
              "  'absenteeism',\n",
              "  'abstraction',\n",
              "  'accelerator',\n",
              "  'acclimation',\n",
              "  'accommodate',\n",
              "  'accompanist',\n",
              "  'accordingly',\n",
              "  'accountable',\n",
              "  'achievement',\n",
              "  'acknowledge',\n",
              "  'acquisition',\n",
              "  'acrimonious',\n",
              "  'across from',\n",
              "  'acupuncture',\n",
              "  'acute angle',\n",
              "  'adjournment',\n",
              "  'adjudicator',\n",
              "  'adolescence',\n",
              "  'advancement',\n",
              "  'adventurous',\n",
              "  'advertising',\n",
              "  'aerodynamic',\n",
              "  'affectation',\n",
              "  'affiliation',\n",
              "  'affirmation',\n",
              "  'affirmative',\n",
              "  'aftereffect',\n",
              "  'aggravating',\n",
              "  'aggravation',\n",
              "  'agnosticism',\n",
              "  'agonizingly',\n",
              "  'agriculture',\n",
              "  'alarm clock',\n",
              "  'allegorical',\n",
              "  'alleviation',\n",
              "  'altercation',\n",
              "  'alternately',\n",
              "  'alternation',\n",
              "  'alternative',\n",
              "  'ambiguously',\n",
              "  'ambitiously',\n",
              "  'ambivalence',\n",
              "  'Americanism',\n",
              "  'amphetamine'],\n",
              " 10: ['abbreviate',\n",
              "  'abdication',\n",
              "  'aberration',\n",
              "  'abhorrence',\n",
              "  'abnormally',\n",
              "  'abominable',\n",
              "  'aboriginal',\n",
              "  'about-face',\n",
              "  'aboveboard',\n",
              "  'abrasively',\n",
              "  'abridgment',\n",
              "  'abruptness',\n",
              "  'absolutely',\n",
              "  'absorption',\n",
              "  'abstention',\n",
              "  'abstinence',\n",
              "  'abundantly',\n",
              "  'accelerate',\n",
              "  'accentuate',\n",
              "  'acceptable',\n",
              "  'acceptably',\n",
              "  'acceptance',\n",
              "  'accessible',\n",
              "  'accidental',\n",
              "  'accomplice',\n",
              "  'accomplish',\n",
              "  'accordance',\n",
              "  'accountant',\n",
              "  'accounting',\n",
              "  'accredited',\n",
              "  'accumulate',\n",
              "  'accurately',\n",
              "  'accusation',\n",
              "  'accusingly',\n",
              "  'accustomed',\n",
              "  'acquainted',\n",
              "  'acrobatics',\n",
              "  'activation',\n",
              "  'adaptation',\n",
              "  'additional',\n",
              "  'adequately',\n",
              "  'adjectival',\n",
              "  'adjudicate',\n",
              "  'adjustable',\n",
              "  'adjustment',\n",
              "  'administer',\n",
              "  'admiration',\n",
              "  'admiringly',\n",
              "  'admissible',\n",
              "  'admittance',\n",
              "  'admittedly',\n",
              "  'admonition',\n",
              "  'adolescent',\n",
              "  'adrenaline',\n",
              "  'adulterate',\n",
              "  'adventurer',\n",
              "  'advertiser',\n",
              "  'aesthetics',\n",
              "  'affiliated',\n",
              "  'affliction',\n",
              "  'affordable',\n",
              "  'aftershave',\n",
              "  'aftershock',\n",
              "  'afterwards',\n",
              "  'aggression',\n",
              "  'aggressive',\n",
              "  'a la carte',\n",
              "  'alarmingly',\n",
              "  'alcoholism',\n",
              "  'alderwoman',\n",
              "  'alienation',\n",
              "  'all-around',\n",
              "  'allegation',\n",
              "  'allegiance',\n",
              "  'allocation',\n",
              "  'alma mater',\n",
              "  'alteration',\n",
              "  'altogether',\n",
              "  'altruistic',\n",
              "  'amalgamate',\n",
              "  'amateurish',\n",
              "  'ambassador',\n",
              "  'ambivalent',\n",
              "  'ameliorate',\n",
              "  'ammunition',\n",
              "  'amphibious'],\n",
              " 12: ['abbreviation',\n",
              "  'abolitionist',\n",
              "  'academically',\n",
              "  'acceleration',\n",
              "  'accidentally',\n",
              "  'accomplished',\n",
              "  'according to',\n",
              "  'accumulation',\n",
              "  'acknowledged',\n",
              "  'acquaintance',\n",
              "  'acquiescence',\n",
              "  \"Adam's apple\",\n",
              "  'additionally',\n",
              "  'adulteration',\n",
              "  'advantageous',\n",
              "  'aerodynamics',\n",
              "  'affectionate',\n",
              "  'afterthought',\n",
              "  'aggressively',\n",
              "  'agricultural',\n",
              "  'all-American',\n",
              "  'alphabetical',\n",
              "  'amalgamation',\n",
              "  'ambidextrous',\n",
              "  'amelioration'],\n",
              " 3: ['ABC',\n",
              "  'ace',\n",
              "  'ACT',\n",
              "  'act',\n",
              "  'add',\n",
              "  'age',\n",
              "  'ago',\n",
              "  'aha',\n",
              "  'aid',\n",
              "  'aim',\n",
              "  'air',\n",
              "  'ale',\n",
              "  'all',\n",
              "  'amp'],\n",
              " 8: ['abdicate',\n",
              "  'abnormal',\n",
              "  'abortion',\n",
              "  'abortive',\n",
              "  'abrasive',\n",
              "  'abruptly',\n",
              "  'absentee',\n",
              "  'absently',\n",
              "  'absolute',\n",
              "  'absorbed',\n",
              "  'abstract',\n",
              "  'absurdly',\n",
              "  'abundant',\n",
              "  'academic',\n",
              "  'accented',\n",
              "  'accepted',\n",
              "  'accident',\n",
              "  'accolade',\n",
              "  'accuracy',\n",
              "  'accurate',\n",
              "  'accusing',\n",
              "  'accustom',\n",
              "  'achiever',\n",
              "  'acoustic',\n",
              "  'acquaint',\n",
              "  'acrimony',\n",
              "  'activate',\n",
              "  'activism',\n",
              "  'activist',\n",
              "  'activity',\n",
              "  'actually',\n",
              "  'addicted',\n",
              "  'addition',\n",
              "  'additive',\n",
              "  'adequacy',\n",
              "  'adequate',\n",
              "  'adherent',\n",
              "  'adhesion',\n",
              "  'adhesive',\n",
              "  'adjacent',\n",
              "  'admiring',\n",
              "  'admonish',\n",
              "  'adoption',\n",
              "  'adoptive',\n",
              "  'adorable',\n",
              "  'adroitly',\n",
              "  'adultery',\n",
              "  'advanced',\n",
              "  'advisory',\n",
              "  'advocacy',\n",
              "  'advocate',\n",
              "  'aerobics',\n",
              "  'affected',\n",
              "  'affinity',\n",
              "  'affluent',\n",
              "  'agitated',\n",
              "  'agitator',\n",
              "  'agnostic',\n",
              "  'agonized',\n",
              "  'air base',\n",
              "  'airborne',\n",
              "  'aircraft',\n",
              "  'airfield',\n",
              "  'airliner',\n",
              "  'airplane',\n",
              "  'air raid',\n",
              "  'airspace',\n",
              "  'airstrip',\n",
              "  'airtight',\n",
              "  'air time',\n",
              "  'airwaves',\n",
              "  'alarming',\n",
              "  'alarmist',\n",
              "  'alderman',\n",
              "  'alienate',\n",
              "  'alkaline',\n",
              "  'allegory',\n",
              "  'allergic',\n",
              "  'alliance',\n",
              "  'allocate',\n",
              "  'all-star',\n",
              "  'alluring',\n",
              "  'allusion',\n",
              "  'almighty',\n",
              "  'alphabet',\n",
              "  'although',\n",
              "  'altitude',\n",
              "  'altruism',\n",
              "  'aluminum',\n",
              "  'ambiance',\n",
              "  'ambition',\n",
              "  'amenable',\n",
              "  'American',\n",
              "  'amicable',\n",
              "  'amicably',\n",
              "  'amnesiac'],\n",
              " 4: ['abet',\n",
              "  'able',\n",
              "  'ably',\n",
              "  'ache',\n",
              "  'achy',\n",
              "  'acid',\n",
              "  'acne',\n",
              "  'acre',\n",
              "  'A.D.',\n",
              "  'afar',\n",
              "  'aged',\n",
              "  'ages',\n",
              "  'aide',\n",
              "  'AIDS',\n",
              "  'airs',\n",
              "  'airy',\n",
              "  'ajar',\n",
              "  'akin',\n",
              "  'alas',\n",
              "  'ally',\n",
              "  'alms',\n",
              "  'also',\n",
              "  'alto',\n",
              "  'A.M.',\n",
              "  'amen',\n",
              "  'amid',\n",
              "  'ammo',\n",
              "  'amok'],\n",
              " 13: ['absent-minded',\n",
              "  'acceptability',\n",
              "  'accessibility',\n",
              "  'accommodating',\n",
              "  'accommodation',\n",
              "  'accompaniment',\n",
              "  'accreditation',\n",
              "  'actualization',\n",
              "  'administrator',\n",
              "  'advertisement',\n",
              "  'aesthetically',\n",
              "  'affirmatively',\n",
              "  'all-inclusive',\n",
              "  'alternatively',\n",
              "  'ambassadorial'],\n",
              " 15: ['absent-mindedly',\n",
              "  'air-conditioned',\n",
              "  'air conditioner',\n",
              "  'American Indian'],\n",
              " 17: ['absent-mindedness'],\n",
              " 2: ['AC', 'ad', 'ah', 'AM', 'am'],\n",
              " 14: ['accident-prone',\n",
              "  'accommodations',\n",
              "  'accomplishment',\n",
              "  'accountability',\n",
              "  \"Achilles' heel\",\n",
              "  'acknowledgment',\n",
              "  'administration',\n",
              "  'administrative',\n",
              "  'affectionately',\n",
              "  'aggressiveness',\n",
              "  'alphabetically',\n",
              "  'American dream'],\n",
              " 16: ['across-the-board',\n",
              "  'African-American',\n",
              "  'air conditioning',\n",
              "  'aircraft carrier'],\n",
              " 18: ['affirmative action'],\n",
              " 22: ['air traffic controller']}"
            ]
          },
          "metadata": {},
          "execution_count": 32
        }
      ]
    },
    {
      "cell_type": "code",
      "source": [
        "# 3개의 문을 리스트로 구현\n",
        "# 염소는 0 스포츠카는 1\n",
        "# 이 1의 위치가 이 세 곳 중에 어딘가에 있을거임\n",
        "# shuffle 필요\n",
        "# 게스트도 임의의 문을 고를거임\n",
        "# choice 사용\n",
        "\n",
        "from random import shuffle, choice\n",
        "doors = [0, 0, 1]\n",
        "shuffle(doors)\n",
        "doors\n",
        "choice(doors)"
      ],
      "metadata": {
        "colab": {
          "base_uri": "https://localhost:8080/"
        },
        "id": "q9xv5rv0Lox8",
        "outputId": "c7c3e1b6-2ff9-49ea-ceac-82495748d824"
      },
      "execution_count": null,
      "outputs": [
        {
          "output_type": "execute_result",
          "data": {
            "text/plain": [
              "1"
            ]
          },
          "metadata": {},
          "execution_count": 39
        }
      ]
    },
    {
      "cell_type": "code",
      "source": [
        "# 문을 바꿨을 때 이길 확률과 안 바꿨을 때 이길 확률 시뮬레이션\n",
        "from random import shuffle, choice\n",
        "\n",
        "stay = 0\n",
        "change = 0\n",
        "\n",
        "n = int(input(\"How many times you want for simulation? \"))\n",
        "\n",
        "# 염소 : 0, 스포츠카 : 1\n",
        "for _ in range(n):\n",
        "  doors = [0, 0, 1]\n",
        "  # 문안에 염소, 스포츠카 위치 결정됨 (고정)\n",
        "  shuffle(doors)\n",
        "  # 선택자가 문을 고름\n",
        "  sel = doors.pop()\n",
        "  # 진행자가 염소가 있는 문중에 하나를 열어서 보여줘야하므로 doors에 있는 0을 지움\n",
        "  doors.remove(0)\n",
        "  if sel == 1:  # 선택자가 1인 문을 선택했었다면 stay\n",
        "    stay += 1\n",
        "  else:         # 그게 아니라면 change 해야함\n",
        "    change += 1\n",
        "print(\"stay: \"+ str(stay) + \" \" + \"change: \" + str(change))\n"
      ],
      "metadata": {
        "colab": {
          "base_uri": "https://localhost:8080/"
        },
        "id": "ucAqxCfcRpzj",
        "outputId": "e9688fa7-0220-471a-8f67-b8840770d029"
      },
      "execution_count": null,
      "outputs": [
        {
          "output_type": "stream",
          "name": "stdout",
          "text": [
            "stay: 3275 change: 6725\n"
          ]
        }
      ]
    },
    {
      "cell_type": "markdown",
      "source": [
        "Function"
      ],
      "metadata": {
        "id": "slxWzMgClfsi"
      }
    },
    {
      "cell_type": "code",
      "source": [
        "def say_hello():\n",
        "  print('hello, world')\n",
        "\n",
        "say_hello()"
      ],
      "metadata": {
        "colab": {
          "base_uri": "https://localhost:8080/"
        },
        "id": "z0lJvngVligz",
        "outputId": "8803b9bb-27b1-4102-d056-c9fadee27429"
      },
      "execution_count": 50,
      "outputs": [
        {
          "output_type": "stream",
          "name": "stdout",
          "text": [
            "hello, world\n"
          ]
        }
      ]
    },
    {
      "cell_type": "code",
      "source": [
        "def say_hello(username):\n",
        "  print(f'hello, {username}')\n",
        "\n",
        "say_hello(\"john\")"
      ],
      "metadata": {
        "colab": {
          "base_uri": "https://localhost:8080/"
        },
        "id": "gfVyNVqplzgn",
        "outputId": "12743991-db72-4b0c-9ae7-510df87f28fe"
      },
      "execution_count": 52,
      "outputs": [
        {
          "output_type": "stream",
          "name": "stdout",
          "text": [
            "hello, john\n"
          ]
        }
      ]
    },
    {
      "cell_type": "code",
      "source": [
        "def say_hello(username):\n",
        "  return username\n",
        "\n",
        "name = say_hello(\"john\")\n",
        "print(name)"
      ],
      "metadata": {
        "colab": {
          "base_uri": "https://localhost:8080/"
        },
        "id": "8VPGO_-tmZdt",
        "outputId": "bb4d07bc-c027-42d1-8982-a889c1e941c3"
      },
      "execution_count": 53,
      "outputs": [
        {
          "output_type": "stream",
          "name": "stdout",
          "text": [
            "john\n"
          ]
        }
      ]
    },
    {
      "cell_type": "code",
      "source": [
        "def say_hello(username):\n",
        "  return f'Hello, {username}!'\n",
        "\n",
        "result = say_hello('Jane')\n",
        "type(result)"
      ],
      "metadata": {
        "colab": {
          "base_uri": "https://localhost:8080/"
        },
        "id": "rk8wo26_mwzB",
        "outputId": "a96e1d5c-3215-4787-b3bf-7af6ce44b9a0"
      },
      "execution_count": 55,
      "outputs": [
        {
          "output_type": "execute_result",
          "data": {
            "text/plain": [
              "str"
            ]
          },
          "metadata": {},
          "execution_count": 55
        }
      ]
    },
    {
      "cell_type": "code",
      "source": [
        "def awesum(num1, num2):\n",
        "  result = num1 + num2 + 3\n",
        "  return result\n",
        "\n",
        "print(awesum(1, 2))"
      ],
      "metadata": {
        "colab": {
          "base_uri": "https://localhost:8080/"
        },
        "id": "WZMF40MGniAw",
        "outputId": "6c4129a7-97ab-42e2-a4b1-60c39fd6f69e"
      },
      "execution_count": 60,
      "outputs": [
        {
          "output_type": "stream",
          "name": "stdout",
          "text": [
            "6\n"
          ]
        }
      ]
    },
    {
      "cell_type": "code",
      "source": [
        "from random import choice\n",
        "\n",
        "def awesum():\n",
        "    result = choice([0, 1])\n",
        "    return result\n",
        "\n",
        "is_return = awesum()\n",
        "is_return"
      ],
      "metadata": {
        "colab": {
          "base_uri": "https://localhost:8080/"
        },
        "id": "J-_qQgcmo5hG",
        "outputId": "961484a2-082c-4767-a1fa-c4f73f230de2"
      },
      "execution_count": 62,
      "outputs": [
        {
          "output_type": "execute_result",
          "data": {
            "text/plain": [
              "0"
            ]
          },
          "metadata": {},
          "execution_count": 62
        }
      ]
    },
    {
      "cell_type": "code",
      "source": [
        "def mul_return(num):\n",
        "  mok = num // 3\n",
        "  namuji = num % 3\n",
        "  return mok, namuji\n",
        "\n",
        "print(mul_return(10))\n",
        "type(mul_return(10))"
      ],
      "metadata": {
        "colab": {
          "base_uri": "https://localhost:8080/"
        },
        "id": "_eAWWj4rpeAs",
        "outputId": "dd7e199a-b641-4a4d-bed2-ab0c9477b115"
      },
      "execution_count": 65,
      "outputs": [
        {
          "output_type": "stream",
          "name": "stdout",
          "text": [
            "(3, 1)\n"
          ]
        },
        {
          "output_type": "execute_result",
          "data": {
            "text/plain": [
              "tuple"
            ]
          },
          "metadata": {},
          "execution_count": 65
        }
      ]
    },
    {
      "cell_type": "code",
      "source": [
        "def id_validation(username):\n",
        "  if username == 'admin':\n",
        "    print(\"You are not admin!\")\n",
        "    return\n",
        "  else:\n",
        "    print(f\"Hi, {username}\")\n",
        "    return username\n",
        "\n",
        "print(id_validation(\"john\"))\n",
        "print(id_validation(\"admin\"))"
      ],
      "metadata": {
        "colab": {
          "base_uri": "https://localhost:8080/"
        },
        "id": "6zTqIwqKp1-0",
        "outputId": "992cc9e2-83e8-4f11-b5bf-749a00ca3f70"
      },
      "execution_count": 67,
      "outputs": [
        {
          "output_type": "stream",
          "name": "stdout",
          "text": [
            "Hi, john\n",
            "john\n",
            "You are not admin!\n",
            "None\n"
          ]
        }
      ]
    },
    {
      "cell_type": "code",
      "source": [
        "def say_hello (username='babo', nick=True):\n",
        "  print(f'Hello, {username}!')\n",
        "  if nick == True:\n",
        "    print(f'but, you are fool')\n",
        "  else:\n",
        "    print(f'now, you are not fool')\n",
        "\n",
        "print(say_hello('babo'))\n",
        "print(say_hello('babo', False))"
      ],
      "metadata": {
        "colab": {
          "base_uri": "https://localhost:8080/"
        },
        "id": "GTlXhjHgq-xO",
        "outputId": "bbf86484-a8bf-494a-ca64-0eeb245b10e7"
      },
      "execution_count": 72,
      "outputs": [
        {
          "output_type": "stream",
          "name": "stdout",
          "text": [
            "Hello, babo!\n",
            "but, you are fool\n",
            "None\n",
            "Hello, babo!\n",
            "now, you are not fool\n",
            "None\n"
          ]
        }
      ]
    },
    {
      "cell_type": "code",
      "source": [
        "def mul_sum(*args):\n",
        "  result = 0\n",
        "  for i in args:\n",
        "    result += i\n",
        "  return result\n",
        "\n",
        "print(mul_sum(1, 2, 3, 4))"
      ],
      "metadata": {
        "colab": {
          "base_uri": "https://localhost:8080/"
        },
        "id": "6l2SXLy_semq",
        "outputId": "e781f81e-6edb-4cd9-83bb-44464dca5a56"
      },
      "execution_count": 73,
      "outputs": [
        {
          "output_type": "stream",
          "name": "stdout",
          "text": [
            "10\n"
          ]
        }
      ]
    },
    {
      "cell_type": "code",
      "source": [
        "mul_sum([1, 2, 3, 4])"
      ],
      "metadata": {
        "colab": {
          "base_uri": "https://localhost:8080/",
          "height": 299
        },
        "id": "-qxGbRFFtSbc",
        "outputId": "e6a143ff-2b05-49f9-9357-9f6c177327a2"
      },
      "execution_count": 74,
      "outputs": [
        {
          "output_type": "error",
          "ename": "TypeError",
          "evalue": "ignored",
          "traceback": [
            "\u001b[0;31m---------------------------------------------------------------------------\u001b[0m",
            "\u001b[0;31mTypeError\u001b[0m                                 Traceback (most recent call last)",
            "\u001b[0;32m<ipython-input-74-905baf785a93>\u001b[0m in \u001b[0;36m<module>\u001b[0;34m\u001b[0m\n\u001b[0;32m----> 1\u001b[0;31m \u001b[0mmul_sum\u001b[0m\u001b[0;34m(\u001b[0m\u001b[0;34m[\u001b[0m\u001b[0;36m1\u001b[0m\u001b[0;34m,\u001b[0m \u001b[0;36m2\u001b[0m\u001b[0;34m,\u001b[0m \u001b[0;36m3\u001b[0m\u001b[0;34m,\u001b[0m \u001b[0;36m4\u001b[0m\u001b[0;34m]\u001b[0m\u001b[0;34m)\u001b[0m\u001b[0;34m\u001b[0m\u001b[0;34m\u001b[0m\u001b[0m\n\u001b[0m",
            "\u001b[0;32m<ipython-input-73-f5bcf6bb810b>\u001b[0m in \u001b[0;36mmul_sum\u001b[0;34m(*args)\u001b[0m\n\u001b[1;32m      2\u001b[0m   \u001b[0mresult\u001b[0m \u001b[0;34m=\u001b[0m \u001b[0;36m0\u001b[0m\u001b[0;34m\u001b[0m\u001b[0;34m\u001b[0m\u001b[0m\n\u001b[1;32m      3\u001b[0m   \u001b[0;32mfor\u001b[0m \u001b[0mi\u001b[0m \u001b[0;32min\u001b[0m \u001b[0margs\u001b[0m\u001b[0;34m:\u001b[0m\u001b[0;34m\u001b[0m\u001b[0;34m\u001b[0m\u001b[0m\n\u001b[0;32m----> 4\u001b[0;31m     \u001b[0mresult\u001b[0m \u001b[0;34m+=\u001b[0m \u001b[0mi\u001b[0m\u001b[0;34m\u001b[0m\u001b[0;34m\u001b[0m\u001b[0m\n\u001b[0m\u001b[1;32m      5\u001b[0m   \u001b[0;32mreturn\u001b[0m \u001b[0mresult\u001b[0m\u001b[0;34m\u001b[0m\u001b[0;34m\u001b[0m\u001b[0m\n\u001b[1;32m      6\u001b[0m \u001b[0;34m\u001b[0m\u001b[0m\n",
            "\u001b[0;31mTypeError\u001b[0m: unsupported operand type(s) for +=: 'int' and 'list'"
          ]
        }
      ]
    },
    {
      "cell_type": "code",
      "source": [
        "dict(name='JohnDoe', locale='CA', phone='010000000')"
      ],
      "metadata": {
        "colab": {
          "base_uri": "https://localhost:8080/"
        },
        "id": "uCzoRYJPtVfd",
        "outputId": "bec2209d-cba5-41be-e8a4-422940121ee6"
      },
      "execution_count": 75,
      "outputs": [
        {
          "output_type": "execute_result",
          "data": {
            "text/plain": [
              "{'name': 'JohnDoe', 'locale': 'CA', 'phone': '010000000'}"
            ]
          },
          "metadata": {},
          "execution_count": 75
        }
      ]
    },
    {
      "cell_type": "code",
      "source": [
        "def show_kwargs(**kwargs):\n",
        "  print(str(kwargs), type(kwargs))\n",
        "\n",
        "show_kwargs(a = 1, b = 2)"
      ],
      "metadata": {
        "colab": {
          "base_uri": "https://localhost:8080/"
        },
        "id": "86y3UWWfuDRJ",
        "outputId": "1d920ca4-7779-4392-95fa-d3ce137d710f"
      },
      "execution_count": 76,
      "outputs": [
        {
          "output_type": "stream",
          "name": "stdout",
          "text": [
            "{'a': 1, 'b': 2} <class 'dict'>\n"
          ]
        }
      ]
    },
    {
      "cell_type": "code",
      "source": [
        "def set_url (hostname, port, **query):\n",
        "  real_url = f'https://{hostname}:{port}?'\n",
        "  for key in query.keys():\n",
        "    real_url += f'{key}={query[key]}&'\n",
        "  return real_url\n",
        "\n",
        "set_url(\"localhost\",\"8080\", utm_source=\"google\", keyword=\"naver\")"
      ],
      "metadata": {
        "colab": {
          "base_uri": "https://localhost:8080/",
          "height": 35
        },
        "id": "b4IAc4vTusSh",
        "outputId": "27eb1f55-9570-4e0b-8fcd-bdf6d4fe64d5"
      },
      "execution_count": 77,
      "outputs": [
        {
          "output_type": "execute_result",
          "data": {
            "text/plain": [
              "'https://localhost:8080?utm_source=google&keyword=naver&'"
            ],
            "application/vnd.google.colaboratory.intrinsic+json": {
              "type": "string"
            }
          },
          "metadata": {},
          "execution_count": 77
        }
      ]
    },
    {
      "cell_type": "code",
      "source": [
        "a = \"hello\"\n",
        "def glob_test(a):\n",
        "  a += \"world\"\n",
        "  return a\n",
        "print(glob_test(a))\n",
        "print(a)"
      ],
      "metadata": {
        "colab": {
          "base_uri": "https://localhost:8080/"
        },
        "id": "SXg2y3QOCsqH",
        "outputId": "24db98d4-1164-4d11-937f-11e01470916b"
      },
      "execution_count": 79,
      "outputs": [
        {
          "output_type": "stream",
          "name": "stdout",
          "text": [
            "helloworld\n",
            "hello\n"
          ]
        }
      ]
    },
    {
      "cell_type": "code",
      "source": [
        "def glob_test2(d):\n",
        "  a += 'world'\n",
        "  d += 1\n",
        "  return a, d\n",
        "\n",
        "glob_test2(1)"
      ],
      "metadata": {
        "colab": {
          "base_uri": "https://localhost:8080/",
          "height": 336
        },
        "id": "SkLKZKOTEYK3",
        "outputId": "d1b93897-f006-4f28-bfee-a47da3581a89"
      },
      "execution_count": 81,
      "outputs": [
        {
          "output_type": "error",
          "ename": "UnboundLocalError",
          "evalue": "ignored",
          "traceback": [
            "\u001b[0;31m---------------------------------------------------------------------------\u001b[0m",
            "\u001b[0;31mUnboundLocalError\u001b[0m                         Traceback (most recent call last)",
            "\u001b[0;32m<ipython-input-81-9fbe0c242b58>\u001b[0m in \u001b[0;36m<module>\u001b[0;34m\u001b[0m\n\u001b[1;32m      4\u001b[0m   \u001b[0;32mreturn\u001b[0m \u001b[0ma\u001b[0m\u001b[0;34m,\u001b[0m \u001b[0md\u001b[0m\u001b[0;34m\u001b[0m\u001b[0;34m\u001b[0m\u001b[0m\n\u001b[1;32m      5\u001b[0m \u001b[0;34m\u001b[0m\u001b[0m\n\u001b[0;32m----> 6\u001b[0;31m \u001b[0mglob_test2\u001b[0m\u001b[0;34m(\u001b[0m\u001b[0;36m1\u001b[0m\u001b[0;34m)\u001b[0m\u001b[0;34m\u001b[0m\u001b[0;34m\u001b[0m\u001b[0m\n\u001b[0m",
            "\u001b[0;32m<ipython-input-81-9fbe0c242b58>\u001b[0m in \u001b[0;36mglob_test2\u001b[0;34m(d)\u001b[0m\n\u001b[1;32m      1\u001b[0m \u001b[0;32mdef\u001b[0m \u001b[0mglob_test2\u001b[0m\u001b[0;34m(\u001b[0m\u001b[0md\u001b[0m\u001b[0;34m)\u001b[0m\u001b[0;34m:\u001b[0m\u001b[0;34m\u001b[0m\u001b[0;34m\u001b[0m\u001b[0m\n\u001b[0;32m----> 2\u001b[0;31m   \u001b[0ma\u001b[0m \u001b[0;34m+=\u001b[0m \u001b[0;34m'world'\u001b[0m\u001b[0;34m\u001b[0m\u001b[0;34m\u001b[0m\u001b[0m\n\u001b[0m\u001b[1;32m      3\u001b[0m   \u001b[0md\u001b[0m \u001b[0;34m+=\u001b[0m \u001b[0;36m1\u001b[0m\u001b[0;34m\u001b[0m\u001b[0;34m\u001b[0m\u001b[0m\n\u001b[1;32m      4\u001b[0m   \u001b[0;32mreturn\u001b[0m \u001b[0ma\u001b[0m\u001b[0;34m,\u001b[0m \u001b[0md\u001b[0m\u001b[0;34m\u001b[0m\u001b[0;34m\u001b[0m\u001b[0m\n\u001b[1;32m      5\u001b[0m \u001b[0;34m\u001b[0m\u001b[0m\n",
            "\u001b[0;31mUnboundLocalError\u001b[0m: local variable 'a' referenced before assignment"
          ]
        }
      ]
    },
    {
      "cell_type": "code",
      "source": [
        "a = \"hello\"\n",
        "def glob_test(a):\n",
        "  a += 'world'\n",
        "  return a\n",
        "\n",
        "a = glob_test(a)\n",
        "a"
      ],
      "metadata": {
        "colab": {
          "base_uri": "https://localhost:8080/",
          "height": 35
        },
        "id": "0V3YROk6FGQP",
        "outputId": "233feba1-9bb0-4e7c-f96c-924463afe2f1"
      },
      "execution_count": 87,
      "outputs": [
        {
          "output_type": "execute_result",
          "data": {
            "text/plain": [
              "'helloworld'"
            ],
            "application/vnd.google.colaboratory.intrinsic+json": {
              "type": "string"
            }
          },
          "metadata": {},
          "execution_count": 87
        }
      ]
    },
    {
      "cell_type": "code",
      "source": [
        "b = \"hello\"\n",
        "def glob_test():\n",
        "  global b\n",
        "  b += \"world\"\n",
        "  return b"
      ],
      "metadata": {
        "id": "aHxSLvgKErnI"
      },
      "execution_count": 89,
      "outputs": []
    },
    {
      "cell_type": "code",
      "source": [
        "del b\n",
        "def glob_test():\n",
        "  global b\n",
        "  b += \"world\"\n",
        "  return b"
      ],
      "metadata": {
        "colab": {
          "base_uri": "https://localhost:8080/",
          "height": 245
        },
        "id": "zZZaqU0lGI6n",
        "outputId": "70a4c778-acb6-4e1b-fc43-bf6c95b0dd68"
      },
      "execution_count": 92,
      "outputs": [
        {
          "output_type": "error",
          "ename": "NameError",
          "evalue": "ignored",
          "traceback": [
            "\u001b[0;31m---------------------------------------------------------------------------\u001b[0m",
            "\u001b[0;31mNameError\u001b[0m                                 Traceback (most recent call last)",
            "\u001b[0;32m<ipython-input-92-7f6dab7a4216>\u001b[0m in \u001b[0;36m<module>\u001b[0;34m\u001b[0m\n\u001b[0;32m----> 1\u001b[0;31m \u001b[0;32mdel\u001b[0m \u001b[0mb\u001b[0m\u001b[0;34m\u001b[0m\u001b[0;34m\u001b[0m\u001b[0m\n\u001b[0m\u001b[1;32m      2\u001b[0m \u001b[0;32mdef\u001b[0m \u001b[0mglob_test\u001b[0m\u001b[0;34m(\u001b[0m\u001b[0;34m)\u001b[0m\u001b[0;34m:\u001b[0m\u001b[0;34m\u001b[0m\u001b[0;34m\u001b[0m\u001b[0m\n\u001b[1;32m      3\u001b[0m   \u001b[0;32mglobal\u001b[0m \u001b[0mb\u001b[0m\u001b[0;34m\u001b[0m\u001b[0;34m\u001b[0m\u001b[0m\n\u001b[1;32m      4\u001b[0m   \u001b[0mb\u001b[0m \u001b[0;34m+=\u001b[0m \u001b[0;34m\"world\"\u001b[0m\u001b[0;34m\u001b[0m\u001b[0;34m\u001b[0m\u001b[0m\n\u001b[1;32m      5\u001b[0m   \u001b[0;32mreturn\u001b[0m \u001b[0mb\u001b[0m\u001b[0;34m\u001b[0m\u001b[0;34m\u001b[0m\u001b[0m\n",
            "\u001b[0;31mNameError\u001b[0m: name 'b' is not defined"
          ]
        }
      ]
    },
    {
      "cell_type": "code",
      "source": [
        "def is_leap(y):\n",
        "  leap = False\n",
        "  if y % 4 == 0 and (y % 100 != 0 or y % 400 == 0):\n",
        "    leap = True\n",
        "  return leap\n",
        "\n",
        "y = int(input(\"Is leap? \"))\n",
        "print(is_leap(y))"
      ],
      "metadata": {
        "colab": {
          "base_uri": "https://localhost:8080/"
        },
        "id": "K89IZBJzHHmJ",
        "outputId": "787b2645-1785-4856-9622-37d01aa0563b"
      },
      "execution_count": 97,
      "outputs": [
        {
          "output_type": "stream",
          "name": "stdout",
          "text": [
            "Is leap? 2023\n",
            "False\n"
          ]
        }
      ]
    },
    {
      "cell_type": "code",
      "source": [
        "##Annoation\n",
        "def greeting(username: str, age: int) -> str:\n",
        "  return f\"Hi, {username}. And you are {age} years old.\"\n",
        "\n",
        "greeting('John', 50)"
      ],
      "metadata": {
        "colab": {
          "base_uri": "https://localhost:8080/",
          "height": 35
        },
        "id": "MOUlzeyENvCA",
        "outputId": "098aa5a4-28af-4a7c-e8c7-d6528e2654dd"
      },
      "execution_count": 99,
      "outputs": [
        {
          "output_type": "execute_result",
          "data": {
            "text/plain": [
              "'Hi, John. And you are 50 years old.'"
            ],
            "application/vnd.google.colaboratory.intrinsic+json": {
              "type": "string"
            }
          },
          "metadata": {},
          "execution_count": 99
        }
      ]
    },
    {
      "cell_type": "code",
      "source": [
        "##multiple line\n",
        "def greeting(username: str, age: int) -> str:\n",
        "  \"\"\"\n",
        "    greeting은 1945년 영국에서 시작되어, 전세계를 돌아 당신에게 도착한 기능입니다.\n",
        "    이름: str과 나이: int을 입력하면 친절하게 인사를 건낼 것입니다.\n",
        "  \"\"\"\n",
        "  return f\"Hi, {username}. And you are {age} years old.\"\n",
        "\n",
        "greeting('John', 50)"
      ],
      "metadata": {
        "id": "a0Noxk7xPuk8"
      },
      "execution_count": null,
      "outputs": []
    },
    {
      "cell_type": "code",
      "source": [
        "query = \"\"\"\n",
        "select *\n",
        "from users;\n",
        "***\n",
        "\"\"\""
      ],
      "metadata": {
        "id": "M2dwGrJFQRKn"
      },
      "execution_count": 101,
      "outputs": []
    },
    {
      "cell_type": "code",
      "source": [
        "times = int(input(\"How many times want to curse the beast??: \"))\n",
        "def recurse_beast(a):\n",
        "  if a == 0:\n",
        "    print(\"curse complete!\")\n",
        "    return\n",
        "  else:\n",
        "    print(f\"Fusion!!! ({a} times left)\")\n",
        "    return recurse_beast(a - 1)\n",
        "recurse_beast(times)"
      ],
      "metadata": {
        "colab": {
          "base_uri": "https://localhost:8080/"
        },
        "id": "Jzs1d4YZQ_y1",
        "outputId": "c33b1f15-4e5e-4eda-e968-aaee74d6516d"
      },
      "execution_count": 110,
      "outputs": [
        {
          "output_type": "stream",
          "name": "stdout",
          "text": [
            "How many times want to curse the beast??: 5\n",
            "Fusion!!! (5 times left)\n",
            "Fusion!!! (4 times left)\n",
            "Fusion!!! (3 times left)\n",
            "Fusion!!! (2 times left)\n",
            "Fusion!!! (1 times left)\n",
            "curse complete!\n"
          ]
        }
      ]
    },
    {
      "cell_type": "code",
      "source": [
        "from time import time\n",
        "n = int(input(\"숫자를 입력하세요: \"))\n",
        "\n",
        "s_time = time()\n",
        "\n",
        "def fibo(n):\n",
        "  if n == 0 or n == 1:\n",
        "    return n\n",
        "  elif n > 1:\n",
        "    return fibo(n - 1) + fibo(n - 2)\n",
        "\n",
        "print(fibo(n))\n",
        "\n",
        "e_time = time()\n",
        "print(e_time - s_time)"
      ],
      "metadata": {
        "colab": {
          "base_uri": "https://localhost:8080/"
        },
        "id": "CKWxSplmS3wL",
        "outputId": "2e43da5b-4de9-465d-9db5-907a826148f0"
      },
      "execution_count": 122,
      "outputs": [
        {
          "output_type": "stream",
          "name": "stdout",
          "text": [
            "숫자를 입력하세요: 35\n",
            "9227465\n",
            "4.911108016967773\n"
          ]
        }
      ]
    },
    {
      "cell_type": "code",
      "source": [
        "from time import time\n",
        "from math import sqrt\n",
        "\n",
        "n = int(input(\"숫자를 입력하세요: \"))\n",
        "\n",
        "s_time = time()\n",
        "\n",
        "def fibo(n):\n",
        "  sqrt_5 = sqrt(5)\n",
        "  result = ((1 + sqrt_5)**n - (1 - sqrt_5)**n) / (2**n * sqrt_5)\n",
        "  return result\n",
        "\n",
        "print(fibo(n))\n",
        "e_time = time()\n",
        "print(e_time - s_time)"
      ],
      "metadata": {
        "colab": {
          "base_uri": "https://localhost:8080/"
        },
        "id": "hZar5lXhUDUZ",
        "outputId": "c8496e45-7dc6-484f-b2be-1386567a59c1"
      },
      "execution_count": 126,
      "outputs": [
        {
          "output_type": "stream",
          "name": "stdout",
          "text": [
            "숫자를 입력하세요: 35\n",
            "9227465.000000011\n",
            "0.0013132095336914062\n"
          ]
        }
      ]
    },
    {
      "cell_type": "markdown",
      "source": [
        "## List Comprehension"
      ],
      "metadata": {
        "id": "CV7xv0LGd8zS"
      }
    },
    {
      "cell_type": "code",
      "source": [
        "old_list = [1, 2, 3, 4, 5,]\n",
        "\n",
        "doubled_list = []\n",
        "for i in old_list:\n",
        "  doubled_list.append(i * 2)\n",
        "print(doubled_list)"
      ],
      "metadata": {
        "colab": {
          "base_uri": "https://localhost:8080/"
        },
        "id": "OWcBBTTFeCzG",
        "outputId": "41f7b1b9-3d8c-4141-daee-1687a376af94"
      },
      "execution_count": 128,
      "outputs": [
        {
          "output_type": "stream",
          "name": "stdout",
          "text": [
            "[2, 4, 6, 8, 10]\n"
          ]
        }
      ]
    },
    {
      "cell_type": "code",
      "source": [
        "[i * 2 for i in old_list]"
      ],
      "metadata": {
        "colab": {
          "base_uri": "https://localhost:8080/"
        },
        "id": "JRtRCA1melVy",
        "outputId": "4a32671c-7c62-4500-db8a-1ed8d1e25a7d"
      },
      "execution_count": 129,
      "outputs": [
        {
          "output_type": "execute_result",
          "data": {
            "text/plain": [
              "[2, 4, 6, 8, 10]"
            ]
          },
          "metadata": {},
          "execution_count": 129
        }
      ]
    },
    {
      "cell_type": "code",
      "source": [
        "old_list = [1, 2, 3, 4, 5,]\n",
        "\n",
        "doubled_list = []\n",
        "for i in old_list:\n",
        "  if i % 2 == 0:\n",
        "    doubled_list.append(i * 2)\n",
        "print(doubled_list)"
      ],
      "metadata": {
        "colab": {
          "base_uri": "https://localhost:8080/"
        },
        "id": "45v_eCIgfbO2",
        "outputId": "cff5b406-10cf-43a0-afb1-ac3b669d8136"
      },
      "execution_count": 132,
      "outputs": [
        {
          "output_type": "stream",
          "name": "stdout",
          "text": [
            "[4, 8]\n"
          ]
        }
      ]
    },
    {
      "cell_type": "code",
      "source": [
        "[i * 2 for i in old_list if i % 2 == 0]"
      ],
      "metadata": {
        "colab": {
          "base_uri": "https://localhost:8080/"
        },
        "id": "o_wjUot-eueQ",
        "outputId": "f4848c95-570b-4a1e-d1c5-3b373661b3e7"
      },
      "execution_count": 130,
      "outputs": [
        {
          "output_type": "execute_result",
          "data": {
            "text/plain": [
              "[4, 8]"
            ]
          },
          "metadata": {},
          "execution_count": 130
        }
      ]
    },
    {
      "cell_type": "code",
      "source": [
        "old_list = [1, 2, 3, 4, 5,]\n",
        "\n",
        "doubled_list = []\n",
        "for i in old_list:\n",
        "  if i % 2 == 0:\n",
        "    doubled_list.append(i * 2)\n",
        "  else:\n",
        "    doubled_list.append(i)\n",
        "print(doubled_list)"
      ],
      "metadata": {
        "colab": {
          "base_uri": "https://localhost:8080/"
        },
        "outputId": "1c6f42ca-9d9e-49fd-8ee8-9df1b3f416ee",
        "id": "fzlK1Fsrfykb"
      },
      "execution_count": 134,
      "outputs": [
        {
          "output_type": "stream",
          "name": "stdout",
          "text": [
            "[1, 4, 3, 8, 5]\n"
          ]
        }
      ]
    },
    {
      "cell_type": "code",
      "source": [
        "[i * 2 if i % 2 == 0 else i for i in old_list]"
      ],
      "metadata": {
        "colab": {
          "base_uri": "https://localhost:8080/"
        },
        "id": "RNH1I_WCf5nb",
        "outputId": "662020b8-d06a-4d49-d3eb-af8987d202ba"
      },
      "execution_count": 136,
      "outputs": [
        {
          "output_type": "execute_result",
          "data": {
            "text/plain": [
              "[1, 4, 3, 8, 5]"
            ]
          },
          "metadata": {},
          "execution_count": 136
        }
      ]
    },
    {
      "cell_type": "code",
      "source": [
        "old_list = [1, 2, 3, 4, 5,]\n",
        "\n",
        "doubled_list = []\n",
        "for i in old_list:\n",
        "  if i % 2 == 0:\n",
        "    doubled_list.append(i * 2)\n",
        "  elif i % 3 == 0:\n",
        "    doubled_list.append(i ** 2)\n",
        "  else:\n",
        "    doubled_list.append(i)\n",
        "print(doubled_list)"
      ],
      "metadata": {
        "colab": {
          "base_uri": "https://localhost:8080/"
        },
        "id": "W4u-MBlLgVB0",
        "outputId": "0191d9d5-96ef-4db7-c562-59ca61c084fa"
      },
      "execution_count": 139,
      "outputs": [
        {
          "output_type": "stream",
          "name": "stdout",
          "text": [
            "[1, 4, 9, 8, 5]\n"
          ]
        }
      ]
    },
    {
      "cell_type": "code",
      "source": [
        "[i * 2 if i % 2 == 0 else i ** 2 if i % 3 ==0 else i for i in old_list]"
      ],
      "metadata": {
        "colab": {
          "base_uri": "https://localhost:8080/"
        },
        "id": "JVbs4ZvmgcM-",
        "outputId": "8e4c8d95-1c84-43ae-ca07-c2f188aa9625"
      },
      "execution_count": 138,
      "outputs": [
        {
          "output_type": "execute_result",
          "data": {
            "text/plain": [
              "[1, 4, 9, 8, 5]"
            ]
          },
          "metadata": {},
          "execution_count": 138
        }
      ]
    },
    {
      "cell_type": "code",
      "source": [
        "[\"Fizz\" * (i % 3 == 0) + \"Buzz\" * (i % 5 == 0 ) or i for i in range(1, 30 + 1)]"
      ],
      "metadata": {
        "colab": {
          "base_uri": "https://localhost:8080/"
        },
        "id": "CQ13KZQOg7OO",
        "outputId": "4503de3f-fb7f-44bd-fb8c-7406242dfbc6"
      },
      "execution_count": 142,
      "outputs": [
        {
          "output_type": "execute_result",
          "data": {
            "text/plain": [
              "[1,\n",
              " 2,\n",
              " 'Fizz',\n",
              " 4,\n",
              " 'Buzz',\n",
              " 'Fizz',\n",
              " 7,\n",
              " 8,\n",
              " 'Fizz',\n",
              " 'Buzz',\n",
              " 11,\n",
              " 'Fizz',\n",
              " 13,\n",
              " 14,\n",
              " 'FizzBuzz',\n",
              " 16,\n",
              " 17,\n",
              " 'Fizz',\n",
              " 19,\n",
              " 'Buzz',\n",
              " 'Fizz',\n",
              " 22,\n",
              " 23,\n",
              " 'Fizz',\n",
              " 'Buzz',\n",
              " 26,\n",
              " 'Fizz',\n",
              " 28,\n",
              " 29,\n",
              " 'FizzBuzz']"
            ]
          },
          "metadata": {},
          "execution_count": 142
        }
      ]
    },
    {
      "cell_type": "code",
      "source": [
        "old_dict = {1:1, 2:2, 3:3, 4:4,}\n",
        "new_dict = {}\n",
        "for k, v in old_dict.items():\n",
        "  new_dict[k] = v * 2\n",
        "\n",
        "new_dict"
      ],
      "metadata": {
        "colab": {
          "base_uri": "https://localhost:8080/"
        },
        "id": "wVC1Dm3hi8gI",
        "outputId": "4bdff00b-d7b5-445a-e4a2-0d4ebca72f0b"
      },
      "execution_count": 144,
      "outputs": [
        {
          "output_type": "execute_result",
          "data": {
            "text/plain": [
              "{1: 2, 2: 4, 3: 6, 4: 8}"
            ]
          },
          "metadata": {},
          "execution_count": 144
        }
      ]
    },
    {
      "cell_type": "code",
      "source": [
        "new_dict = {k:v*2 for k, v in old_dict.items()}\n",
        "new_dict"
      ],
      "metadata": {
        "colab": {
          "base_uri": "https://localhost:8080/"
        },
        "id": "HP0JjxwJjR_L",
        "outputId": "3b944ca2-84ca-4d97-8215-be4fea138414"
      },
      "execution_count": 147,
      "outputs": [
        {
          "output_type": "execute_result",
          "data": {
            "text/plain": [
              "{1: 2, 2: 4, 3: 6, 4: 8}"
            ]
          },
          "metadata": {},
          "execution_count": 147
        }
      ]
    },
    {
      "cell_type": "code",
      "source": [
        "from random import randint\n",
        "from time import sleep\n",
        "answer = randint(1, 100)\n",
        "\n",
        "def numguess():\n",
        "  name = input(\"what is your name? \")\n",
        "  print(\"HI, {}\".format(name))\n",
        "  chance = 5\n",
        "  while (chance > 0):\n",
        "      guess = int(input(\"what is your guess number? (1 ~ 100) \"))\n",
        "      if (guess == answer):\n",
        "          for _ in range(3):\n",
        "              sleep(1)\n",
        "              print(\"*************\")\n",
        "          print(\"Correct {}! The answer was {}\".format(name, str(answer)))\n",
        "          return\n",
        "      elif guess > answer:\n",
        "          chance -= 1\n",
        "          print(f\"Keep going, man~! That was too high. {name}..\")\n",
        "      elif guess < answer:\n",
        "          chance -= 1\n",
        "          print(f\"Keep going, man~! That was too low. {name}..\")\n",
        "\n",
        "numguess()\n"
      ],
      "metadata": {
        "colab": {
          "base_uri": "https://localhost:8080/"
        },
        "id": "A3YjYx4yjyMn",
        "outputId": "6b59046d-89ae-4efb-adf9-36e88b849cfc"
      },
      "execution_count": 150,
      "outputs": [
        {
          "output_type": "stream",
          "name": "stdout",
          "text": [
            "what is your name? jungwoo\n",
            "HI, jungwoo\n",
            "what is your guess number? (1 ~ 100) 50\n",
            "Keep going, man~! That was too low. jungwoo..\n",
            "what is your guess number? (1 ~ 100) 60\n",
            "Keep going, man~! That was too low. jungwoo..\n",
            "what is your guess number? (1 ~ 100) 80\n",
            "Keep going, man~! That was too high. jungwoo..\n",
            "what is your guess number? (1 ~ 100) 73\n",
            "Keep going, man~! That was too low. jungwoo..\n",
            "what is your guess number? (1 ~ 100) 76\n",
            "*************\n",
            "*************\n",
            "*************\n",
            "Correct jungwoo! The answer was 76\n"
          ]
        }
      ]
    }
  ]
}