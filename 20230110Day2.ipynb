{
  "nbformat": 4,
  "nbformat_minor": 0,
  "metadata": {
    "colab": {
      "provenance": [],
      "authorship_tag": "ABX9TyPPgVf6i4e2ibz9PkaTCvLT"
    },
    "kernelspec": {
      "name": "python3",
      "display_name": "Python 3"
    },
    "language_info": {
      "name": "python"
    }
  },
  "cells": [
    {
      "cell_type": "markdown",
      "source": [
        "List"
      ],
      "metadata": {
        "id": "tyZesu-2zCdU"
      }
    },
    {
      "cell_type": "code",
      "source": [
        "# 빈 리스트 선언하기\n",
        "animals = []"
      ],
      "metadata": {
        "id": "BAZavY7OzE5h"
      },
      "execution_count": null,
      "outputs": []
    },
    {
      "cell_type": "code",
      "source": [
        "animals = ['cat', 'dog', 'hamster']\n",
        "animals"
      ],
      "metadata": {
        "colab": {
          "base_uri": "https://localhost:8080/"
        },
        "id": "IoGcd14tzR_2",
        "outputId": "ede866bd-9d77-4ca2-8a26-3138fcfffece"
      },
      "execution_count": null,
      "outputs": [
        {
          "output_type": "execute_result",
          "data": {
            "text/plain": [
              "['cat', 'dog', 'hamster']"
            ]
          },
          "metadata": {},
          "execution_count": 3
        }
      ]
    },
    {
      "cell_type": "code",
      "source": [
        "animals.append('lion')\n",
        "print(animals)\n",
        "animals.pop()\n",
        "print(animals)"
      ],
      "metadata": {
        "colab": {
          "base_uri": "https://localhost:8080/"
        },
        "id": "x-gJky1VzYke",
        "outputId": "a13e6b36-89b2-456c-f593-b55604fc064b"
      },
      "execution_count": null,
      "outputs": [
        {
          "output_type": "stream",
          "name": "stdout",
          "text": [
            "['cat', 'dog', 'hamster', 'lion']\n",
            "['cat', 'dog', 'hamster']\n"
          ]
        }
      ]
    },
    {
      "cell_type": "code",
      "source": [
        "animals.insert(1, 'tiger')\n",
        "animals"
      ],
      "metadata": {
        "colab": {
          "base_uri": "https://localhost:8080/"
        },
        "id": "M9u_xDG_0IhK",
        "outputId": "3e788aba-90d0-4cc7-ed2e-e1a9470e2c62"
      },
      "execution_count": null,
      "outputs": [
        {
          "output_type": "execute_result",
          "data": {
            "text/plain": [
              "['cat', 'tiger', 'dog', 'hamster']"
            ]
          },
          "metadata": {},
          "execution_count": 15
        }
      ]
    },
    {
      "cell_type": "code",
      "source": [
        "animals.sort()\n",
        "animals"
      ],
      "metadata": {
        "colab": {
          "base_uri": "https://localhost:8080/"
        },
        "id": "l37YTYzF0Z7Y",
        "outputId": "f79b29ae-5041-4988-ecec-e468ee2809c9"
      },
      "execution_count": null,
      "outputs": [
        {
          "output_type": "execute_result",
          "data": {
            "text/plain": [
              "['cat', 'dog', 'hamster', 'tiger']"
            ]
          },
          "metadata": {},
          "execution_count": 17
        }
      ]
    },
    {
      "cell_type": "code",
      "source": [
        "numbers = [0, 100, -1, 23, -40, -10]\n",
        "numbers.sort(reverse=True)\n",
        "numbers"
      ],
      "metadata": {
        "colab": {
          "base_uri": "https://localhost:8080/"
        },
        "id": "OMQaZ1sG0fEW",
        "outputId": "c7b09d09-3fae-4f05-fc12-363b62e7e1b2"
      },
      "execution_count": null,
      "outputs": [
        {
          "output_type": "execute_result",
          "data": {
            "text/plain": [
              "[100, 23, 0, -1, -10, -40]"
            ]
          },
          "metadata": {},
          "execution_count": 19
        }
      ]
    },
    {
      "cell_type": "code",
      "source": [
        "numbers"
      ],
      "metadata": {
        "colab": {
          "base_uri": "https://localhost:8080/"
        },
        "id": "mz_Bu3KN3YRy",
        "outputId": "c12c3ab0-0796-4527-bc35-4986bf91b254"
      },
      "execution_count": null,
      "outputs": [
        {
          "output_type": "execute_result",
          "data": {
            "text/plain": [
              "[100, 23, 0, -1, -10, -40]"
            ]
          },
          "metadata": {},
          "execution_count": 21
        }
      ]
    },
    {
      "cell_type": "code",
      "source": [
        "numbers.index(0)"
      ],
      "metadata": {
        "colab": {
          "base_uri": "https://localhost:8080/"
        },
        "id": "zjE6A4mA3MZE",
        "outputId": "33e3d3c0-0083-47ec-b458-7f2b62c6621d"
      },
      "execution_count": null,
      "outputs": [
        {
          "output_type": "execute_result",
          "data": {
            "text/plain": [
              "2"
            ]
          },
          "metadata": {},
          "execution_count": 20
        }
      ]
    },
    {
      "cell_type": "code",
      "source": [
        "numbers[:numbers.index(0)]"
      ],
      "metadata": {
        "colab": {
          "base_uri": "https://localhost:8080/"
        },
        "id": "kVINZAkP3axL",
        "outputId": "1da467e7-141e-4d33-8386-9536af2c49dc"
      },
      "execution_count": null,
      "outputs": [
        {
          "output_type": "execute_result",
          "data": {
            "text/plain": [
              "[100, 23]"
            ]
          },
          "metadata": {},
          "execution_count": 22
        }
      ]
    },
    {
      "cell_type": "code",
      "source": [
        "numbers.extend([1, 2, 3])\n",
        "numbers"
      ],
      "metadata": {
        "colab": {
          "base_uri": "https://localhost:8080/"
        },
        "id": "oIyLk6Zz3oAd",
        "outputId": "26ff0420-803c-42a9-92f4-3d82bf413282"
      },
      "execution_count": null,
      "outputs": [
        {
          "output_type": "execute_result",
          "data": {
            "text/plain": [
              "[100, 23, 0, -1, -10, -40, 1, 2, 3]"
            ]
          },
          "metadata": {},
          "execution_count": 23
        }
      ]
    },
    {
      "cell_type": "code",
      "source": [
        "0 in numbers"
      ],
      "metadata": {
        "colab": {
          "base_uri": "https://localhost:8080/"
        },
        "id": "tXbgm7664gSS",
        "outputId": "cf76afe8-3474-494b-c211-1b329b52292a"
      },
      "execution_count": null,
      "outputs": [
        {
          "output_type": "execute_result",
          "data": {
            "text/plain": [
              "True"
            ]
          },
          "metadata": {},
          "execution_count": 25
        }
      ]
    },
    {
      "cell_type": "code",
      "source": [
        "6 not in numbers"
      ],
      "metadata": {
        "colab": {
          "base_uri": "https://localhost:8080/"
        },
        "id": "kbNcBLVt40OI",
        "outputId": "a8cdb29c-4eb5-43e3-ab77-d2690b653808"
      },
      "execution_count": null,
      "outputs": [
        {
          "output_type": "execute_result",
          "data": {
            "text/plain": [
              "True"
            ]
          },
          "metadata": {},
          "execution_count": 26
        }
      ]
    },
    {
      "cell_type": "code",
      "source": [
        "if 0 in numbers:\n",
        "  print(\"0 is in numbers\")\n",
        "else:\n",
        "  print(\"0 is not in numbers\")"
      ],
      "metadata": {
        "colab": {
          "base_uri": "https://localhost:8080/"
        },
        "id": "aqj3p6US42yx",
        "outputId": "8d06d480-41bf-43b9-b5ad-3ac2cc356030"
      },
      "execution_count": null,
      "outputs": [
        {
          "output_type": "stream",
          "name": "stdout",
          "text": [
            "0 is in numbers\n"
          ]
        }
      ]
    },
    {
      "cell_type": "code",
      "source": [
        "tuple1 = (5, 6)\n",
        "tuple2 = (1, 2)\n",
        "print(tuple1 + tuple2)"
      ],
      "metadata": {
        "colab": {
          "base_uri": "https://localhost:8080/"
        },
        "id": "v7Vsd8Ck552g",
        "outputId": "ee7b3cbf-0b0d-499c-dda9-e10e20f74936"
      },
      "execution_count": null,
      "outputs": [
        {
          "output_type": "stream",
          "name": "stdout",
          "text": [
            "(5, 6, 1, 2)\n"
          ]
        }
      ]
    },
    {
      "cell_type": "code",
      "source": [
        "x = 1;\n",
        "y = -1;\n",
        "tmp = y;\n",
        "y = x;\n",
        "x = tmp;\n",
        "\n",
        "print(x, y)"
      ],
      "metadata": {
        "colab": {
          "base_uri": "https://localhost:8080/"
        },
        "id": "W_zYncbs61TM",
        "outputId": "ae6ab17a-ea22-4f93-aace-f8cefaaa6207"
      },
      "execution_count": null,
      "outputs": [
        {
          "output_type": "stream",
          "name": "stdout",
          "text": [
            "-1 1\n"
          ]
        }
      ]
    },
    {
      "cell_type": "code",
      "source": [
        "(x, y) = (y, x)\n",
        "print(x, y)"
      ],
      "metadata": {
        "colab": {
          "base_uri": "https://localhost:8080/"
        },
        "id": "TNamqhtP7f9b",
        "outputId": "92681083-2815-42a1-b59c-b0d92b01b9f8"
      },
      "execution_count": null,
      "outputs": [
        {
          "output_type": "stream",
          "name": "stdout",
          "text": [
            "1 -1\n"
          ]
        }
      ]
    },
    {
      "cell_type": "code",
      "source": [
        "list((1, 2))"
      ],
      "metadata": {
        "colab": {
          "base_uri": "https://localhost:8080/"
        },
        "id": "7zg9S8i98PEs",
        "outputId": "a55f77be-7287-460d-8220-4dcbbac41feb"
      },
      "execution_count": null,
      "outputs": [
        {
          "output_type": "execute_result",
          "data": {
            "text/plain": [
              "[1, 2]"
            ]
          },
          "metadata": {},
          "execution_count": 33
        }
      ]
    },
    {
      "cell_type": "code",
      "source": [
        "tuple([1, 2])"
      ],
      "metadata": {
        "colab": {
          "base_uri": "https://localhost:8080/"
        },
        "id": "jZcf7P2h8SEa",
        "outputId": "ec528bfa-27ae-49f7-edc0-d283cc874008"
      },
      "execution_count": null,
      "outputs": [
        {
          "output_type": "execute_result",
          "data": {
            "text/plain": [
              "(1, 2)"
            ]
          },
          "metadata": {},
          "execution_count": 34
        }
      ]
    },
    {
      "cell_type": "code",
      "source": [
        "animals = ['rabbit', 'cat', 'dog', 'aligator', 'tiger', 'lion']\n",
        "animals.append('panda')\n",
        "animals.append('bird')\n",
        "animals.append('bear')\n",
        "print(animals)\n",
        "animals.sort(reverse=True)\n",
        "print(animals)\n",
        "even_animals = animals[::2]\n",
        "print(even_animals)\n",
        "\n",
        "t1 = ('rabbit', 'cat', 'dog', 'aligator', 'tiger', 'lion')\n",
        "t2 = ('panda', 'bird', 'bear')\n",
        "t3 = t1 + t2\n",
        "print(t3)\n",
        "t4 = t3[::2]\n",
        "print(t4)"
      ],
      "metadata": {
        "colab": {
          "base_uri": "https://localhost:8080/"
        },
        "id": "If4GG94x_c5S",
        "outputId": "5019d8c9-c891-4480-c641-52a9ade545ed"
      },
      "execution_count": null,
      "outputs": [
        {
          "output_type": "stream",
          "name": "stdout",
          "text": [
            "['rabbit', 'cat', 'dog', 'aligator', 'tiger', 'lion', 'panda', 'bird', 'bear']\n",
            "['tiger', 'rabbit', 'panda', 'lion', 'dog', 'cat', 'bird', 'bear', 'aligator']\n",
            "['tiger', 'panda', 'dog', 'bird', 'aligator']\n",
            "('rabbit', 'cat', 'dog', 'aligator', 'tiger', 'lion', 'panda', 'bird', 'bear')\n",
            "('rabbit', 'dog', 'tiger', 'panda', 'bear')\n"
          ]
        }
      ]
    },
    {
      "cell_type": "code",
      "source": [
        "dict1 = {}\n",
        "print(dict1)"
      ],
      "metadata": {
        "colab": {
          "base_uri": "https://localhost:8080/"
        },
        "id": "MRjdGukuNenm",
        "outputId": "cc69d157-eb5d-4b86-ed19-3eb3318aef48"
      },
      "execution_count": null,
      "outputs": [
        {
          "output_type": "stream",
          "name": "stdout",
          "text": [
            "{}\n"
          ]
        }
      ]
    },
    {
      "cell_type": "code",
      "source": [
        "dict2 = {\n",
        "    'name': 'John', \n",
        "    'surname': 'Doe',\n",
        "}\n",
        "#Trailing comma\n",
        "print(dict2)"
      ],
      "metadata": {
        "colab": {
          "base_uri": "https://localhost:8080/"
        },
        "id": "eCQQe1YFQGvu",
        "outputId": "4d5b90ee-9da9-4342-d223-83c68e4cf0a6"
      },
      "execution_count": null,
      "outputs": [
        {
          "output_type": "stream",
          "name": "stdout",
          "text": [
            "{'name': 'John', 'surname': 'Doe'}\n"
          ]
        }
      ]
    },
    {
      "cell_type": "code",
      "source": [
        "dict2['name']"
      ],
      "metadata": {
        "colab": {
          "base_uri": "https://localhost:8080/",
          "height": 35
        },
        "id": "m-RKkL4tQpu9",
        "outputId": "34b5e323-bb87-464e-daa7-553ede2faa51"
      },
      "execution_count": null,
      "outputs": [
        {
          "output_type": "execute_result",
          "data": {
            "text/plain": [
              "'John'"
            ],
            "application/vnd.google.colaboratory.intrinsic+json": {
              "type": "string"
            }
          },
          "metadata": {},
          "execution_count": 48
        }
      ]
    },
    {
      "cell_type": "code",
      "source": [
        "another_dict = dict([('name', 'John'), ('surname', 'Doe')])\n",
        "another_dict"
      ],
      "metadata": {
        "colab": {
          "base_uri": "https://localhost:8080/"
        },
        "id": "53ZD3w7bQ0A0",
        "outputId": "857d6e9a-3f36-47a2-c5aa-c23e5aa3d609"
      },
      "execution_count": null,
      "outputs": [
        {
          "output_type": "execute_result",
          "data": {
            "text/plain": [
              "{'name': 'John', 'surname': 'Doe'}"
            ]
          },
          "metadata": {},
          "execution_count": 50
        }
      ]
    },
    {
      "cell_type": "code",
      "source": [
        "dict2['locale'] = 'Seoul, Korea'\n",
        "dict2"
      ],
      "metadata": {
        "colab": {
          "base_uri": "https://localhost:8080/"
        },
        "id": "jveqc3GWRlZo",
        "outputId": "5656d8ab-258d-49cf-8a38-09e256bf0da5"
      },
      "execution_count": null,
      "outputs": [
        {
          "output_type": "execute_result",
          "data": {
            "text/plain": [
              "{'name': 'John', 'surname': 'Doe', 'locale': 'Seoul, Korea'}"
            ]
          },
          "metadata": {},
          "execution_count": 51
        }
      ]
    },
    {
      "cell_type": "code",
      "source": [
        "dict2['email'] = 'johndoe@gmail.com'\n",
        "dict2"
      ],
      "metadata": {
        "colab": {
          "base_uri": "https://localhost:8080/"
        },
        "id": "dO-TYoKuR2ak",
        "outputId": "d7ad17f6-ef6b-4249-c726-d57b626c5802"
      },
      "execution_count": null,
      "outputs": [
        {
          "output_type": "execute_result",
          "data": {
            "text/plain": [
              "{'name': 'John',\n",
              " 'surname': 'Doe',\n",
              " 'locale': 'Seoul, Korea',\n",
              " 'email': 'johndoe@gmail.com'}"
            ]
          },
          "metadata": {},
          "execution_count": 52
        }
      ]
    },
    {
      "cell_type": "code",
      "source": [
        "dict2['mid-term'] = {}\n",
        "dict2"
      ],
      "metadata": {
        "colab": {
          "base_uri": "https://localhost:8080/"
        },
        "id": "9HeHeUckSS70",
        "outputId": "97738172-82e5-4e8d-cbb9-a004d7e3103a"
      },
      "execution_count": null,
      "outputs": [
        {
          "output_type": "execute_result",
          "data": {
            "text/plain": [
              "{'name': 'John',\n",
              " 'surname': 'Doe',\n",
              " 'locale': 'Seoul, Korea',\n",
              " 'email': 'johndoe@gmail.com',\n",
              " 'mid-term': {}}"
            ]
          },
          "metadata": {},
          "execution_count": 53
        }
      ]
    },
    {
      "cell_type": "code",
      "source": [
        "dict2['mid-term']['Korean'] = 80\n",
        "dict2"
      ],
      "metadata": {
        "colab": {
          "base_uri": "https://localhost:8080/"
        },
        "id": "_NxD2r64Skvg",
        "outputId": "3b2871b1-bec2-498a-a369-a4ab8de1e0f7"
      },
      "execution_count": null,
      "outputs": [
        {
          "output_type": "execute_result",
          "data": {
            "text/plain": [
              "{'name': 'John',\n",
              " 'surname': 'Doe',\n",
              " 'locale': 'Seoul, Korea',\n",
              " 'email': 'johndoe@gmail.com',\n",
              " 'mid-term': {'Korean': 80}}"
            ]
          },
          "metadata": {},
          "execution_count": 54
        }
      ]
    },
    {
      "cell_type": "code",
      "source": [
        "dict2['mid-term']['Math'] = 60\n",
        "dict2['mid-term']['English'] = 70\n",
        "dict2['mid-term']['Science'] = [35, 40, 30, 50]\n",
        "dict2"
      ],
      "metadata": {
        "colab": {
          "base_uri": "https://localhost:8080/"
        },
        "id": "YNNFZq1sS3Eq",
        "outputId": "b38fda0d-8650-4c1e-ea4e-231e980945ba"
      },
      "execution_count": null,
      "outputs": [
        {
          "output_type": "execute_result",
          "data": {
            "text/plain": [
              "{'name': 'John',\n",
              " 'surname': 'Doe',\n",
              " 'locale': 'Seoul, Korea',\n",
              " 'email': 'johndoe@gmail.com',\n",
              " 'mid-term': {'Korean': 80,\n",
              "  'Math': 60,\n",
              "  'English': 70,\n",
              "  'Science': [35, 40, 30, 50]}}"
            ]
          },
          "metadata": {},
          "execution_count": 56
        }
      ]
    },
    {
      "cell_type": "code",
      "source": [
        "dict2['mid-term']['English'] = 90\n",
        "dict2"
      ],
      "metadata": {
        "colab": {
          "base_uri": "https://localhost:8080/"
        },
        "id": "WPwNF5OpTWWR",
        "outputId": "632ce712-39de-44af-e8d1-68e87e9f0ac1"
      },
      "execution_count": null,
      "outputs": [
        {
          "output_type": "execute_result",
          "data": {
            "text/plain": [
              "{'name': 'John',\n",
              " 'surname': 'Doe',\n",
              " 'locale': 'Seoul, Korea',\n",
              " 'email': 'johndoe@gmail.com',\n",
              " 'mid-term': {'Korean': 80,\n",
              "  'Math': 60,\n",
              "  'English': 90,\n",
              "  'Science': [35, 40, 30, 50]}}"
            ]
          },
          "metadata": {},
          "execution_count": 59
        }
      ]
    },
    {
      "cell_type": "code",
      "source": [
        "del dict2['email']"
      ],
      "metadata": {
        "id": "0cqnmG3qT19x"
      },
      "execution_count": null,
      "outputs": []
    },
    {
      "cell_type": "code",
      "source": [
        "dict2"
      ],
      "metadata": {
        "colab": {
          "base_uri": "https://localhost:8080/"
        },
        "id": "4vvOw2ftT4ZS",
        "outputId": "911b7928-e9a2-4d25-fc33-5e355f01a80c"
      },
      "execution_count": null,
      "outputs": [
        {
          "output_type": "execute_result",
          "data": {
            "text/plain": [
              "{'name': 'John',\n",
              " 'surname': 'Doe',\n",
              " 'locale': 'Seoul, Korea',\n",
              " 'mid-term': {'Korean': 80,\n",
              "  'Math': 60,\n",
              "  'English': 90,\n",
              "  'Science': [35, 40, 30, 50]}}"
            ]
          },
          "metadata": {},
          "execution_count": 61
        }
      ]
    },
    {
      "cell_type": "code",
      "source": [
        "dict2.keys()"
      ],
      "metadata": {
        "colab": {
          "base_uri": "https://localhost:8080/"
        },
        "id": "Q0tHXWPJUG4h",
        "outputId": "a17c73c1-0b17-46c9-a440-7c605de09d56"
      },
      "execution_count": null,
      "outputs": [
        {
          "output_type": "execute_result",
          "data": {
            "text/plain": [
              "dict_keys(['name', 'surname', 'locale', 'mid-term'])"
            ]
          },
          "metadata": {},
          "execution_count": 63
        }
      ]
    },
    {
      "cell_type": "code",
      "source": [
        "dict2.values()"
      ],
      "metadata": {
        "colab": {
          "base_uri": "https://localhost:8080/"
        },
        "id": "YIjBdbEHUJ1N",
        "outputId": "c97bae2b-be7e-45b6-f29e-aaf18faa4e45"
      },
      "execution_count": null,
      "outputs": [
        {
          "output_type": "execute_result",
          "data": {
            "text/plain": [
              "dict_values(['John', 'Doe', 'Seoul, Korea', {'Korean': 80, 'Math': 60, 'English': 90, 'Science': [35, 40, 30, 50]}])"
            ]
          },
          "metadata": {},
          "execution_count": 65
        }
      ]
    },
    {
      "cell_type": "code",
      "source": [
        "dict2.items()"
      ],
      "metadata": {
        "colab": {
          "base_uri": "https://localhost:8080/"
        },
        "id": "gwN71VAJUZXs",
        "outputId": "18093004-5303-4bc5-92f0-91cdd8ac4872"
      },
      "execution_count": null,
      "outputs": [
        {
          "output_type": "execute_result",
          "data": {
            "text/plain": [
              "dict_items([('name', 'John'), ('surname', 'Doe'), ('locale', 'Seoul, Korea'), ('mid-term', {'Korean': 80, 'Math': 60, 'English': 90, 'Science': [35, 40, 30, 50]})])"
            ]
          },
          "metadata": {},
          "execution_count": 67
        }
      ]
    },
    {
      "cell_type": "code",
      "source": [
        "dict2.pop('surname')"
      ],
      "metadata": {
        "colab": {
          "base_uri": "https://localhost:8080/",
          "height": 35
        },
        "id": "05KiZRbQUiSv",
        "outputId": "af8b360f-8577-42af-d56a-580aacb78d7b"
      },
      "execution_count": null,
      "outputs": [
        {
          "output_type": "execute_result",
          "data": {
            "text/plain": [
              "'Doe'"
            ],
            "application/vnd.google.colaboratory.intrinsic+json": {
              "type": "string"
            }
          },
          "metadata": {},
          "execution_count": 68
        }
      ]
    },
    {
      "cell_type": "code",
      "source": [
        "dict2"
      ],
      "metadata": {
        "colab": {
          "base_uri": "https://localhost:8080/"
        },
        "id": "0vWFwvpEUk7V",
        "outputId": "632ae9cf-073a-4ab5-869b-e0e835a44515"
      },
      "execution_count": null,
      "outputs": [
        {
          "output_type": "execute_result",
          "data": {
            "text/plain": [
              "{'name': 'John',\n",
              " 'locale': 'Seoul, Korea',\n",
              " 'mid-term': {'Korean': 80,\n",
              "  'Math': 60,\n",
              "  'English': 90,\n",
              "  'Science': [35, 40, 30, 50]}}"
            ]
          },
          "metadata": {},
          "execution_count": 69
        }
      ]
    },
    {
      "cell_type": "code",
      "source": [
        "dict2"
      ],
      "metadata": {
        "colab": {
          "base_uri": "https://localhost:8080/"
        },
        "id": "6Nufz1cNUo5A",
        "outputId": "7afa14fe-35ed-477d-c123-fe2596be51cc"
      },
      "execution_count": null,
      "outputs": [
        {
          "output_type": "execute_result",
          "data": {
            "text/plain": [
              "{'name': 'John',\n",
              " 'locale': 'Seoul, Korea',\n",
              " 'mid-term': {'Korean': 80,\n",
              "  'Math': 60,\n",
              "  'English': 90,\n",
              "  'Science': [35, 40, 30, 50]}}"
            ]
          },
          "metadata": {},
          "execution_count": 71
        }
      ]
    },
    {
      "cell_type": "code",
      "source": [
        "dict2.get('English', 0)"
      ],
      "metadata": {
        "colab": {
          "base_uri": "https://localhost:8080/"
        },
        "id": "NrtrcX7gV64U",
        "outputId": "8a963599-294b-44c8-bb71-3ec9af9bec51"
      },
      "execution_count": null,
      "outputs": [
        {
          "output_type": "execute_result",
          "data": {
            "text/plain": [
              "0"
            ]
          },
          "metadata": {},
          "execution_count": 72
        }
      ]
    },
    {
      "cell_type": "code",
      "source": [
        "dict2.get('English', None)"
      ],
      "metadata": {
        "id": "KjSfc_9LV-Ec"
      },
      "execution_count": null,
      "outputs": []
    },
    {
      "cell_type": "code",
      "source": [
        "dict2.setdefault('spanish', 0)"
      ],
      "metadata": {
        "colab": {
          "base_uri": "https://localhost:8080/"
        },
        "id": "DUFGpaqlXNlZ",
        "outputId": "c18f225d-d7e4-46f8-d0e6-aeb8fa2f64e4"
      },
      "execution_count": null,
      "outputs": [
        {
          "output_type": "execute_result",
          "data": {
            "text/plain": [
              "0"
            ]
          },
          "metadata": {},
          "execution_count": 86
        }
      ]
    },
    {
      "cell_type": "code",
      "source": [
        "dict2"
      ],
      "metadata": {
        "colab": {
          "base_uri": "https://localhost:8080/"
        },
        "id": "Ul0f0asnXqF1",
        "outputId": "774eaa47-934f-4fd0-92e4-d01caab2a622"
      },
      "execution_count": null,
      "outputs": [
        {
          "output_type": "execute_result",
          "data": {
            "text/plain": [
              "{'name': 'John',\n",
              " 'locale': 'Seoul, Korea',\n",
              " 'mid-term': {'Korean': 80,\n",
              "  'Math': 60,\n",
              "  'English': 90,\n",
              "  'Science': [35, 40, 30, 50]},\n",
              " 'spanish': 0}"
            ]
          },
          "metadata": {},
          "execution_count": 87
        }
      ]
    },
    {
      "cell_type": "code",
      "source": [
        "dict2"
      ],
      "metadata": {
        "colab": {
          "base_uri": "https://localhost:8080/"
        },
        "id": "BUpztmMhX2eI",
        "outputId": "db1643fe-f795-42ae-ecc8-b790b65a7eab"
      },
      "execution_count": null,
      "outputs": [
        {
          "output_type": "execute_result",
          "data": {
            "text/plain": [
              "{'name': 'John',\n",
              " 'locale': 'Seoul, Korea',\n",
              " 'mid-term': {'Korean': 80,\n",
              "  'Math': 60,\n",
              "  'English': 90,\n",
              "  'Science': [35, 40, 30, 50]},\n",
              " 'spanish': 0,\n",
              " 'Science': None,\n",
              " 'hi': 0}"
            ]
          },
          "metadata": {},
          "execution_count": 99
        }
      ]
    },
    {
      "cell_type": "code",
      "source": [
        "len(dict2)"
      ],
      "metadata": {
        "colab": {
          "base_uri": "https://localhost:8080/"
        },
        "id": "G-WzsbjIZAL5",
        "outputId": "3541a6bf-4e95-49ea-d857-efeb08afc38b"
      },
      "execution_count": null,
      "outputs": [
        {
          "output_type": "execute_result",
          "data": {
            "text/plain": [
              "6"
            ]
          },
          "metadata": {},
          "execution_count": 100
        }
      ]
    },
    {
      "cell_type": "code",
      "source": [
        "dict2.update({'name': 'Jane', 'locale': 'NY, USA'})"
      ],
      "metadata": {
        "id": "ZrJpSEfPZESX"
      },
      "execution_count": null,
      "outputs": []
    },
    {
      "cell_type": "code",
      "source": [
        "dict2"
      ],
      "metadata": {
        "colab": {
          "base_uri": "https://localhost:8080/"
        },
        "id": "ANG_vMGsZLLk",
        "outputId": "9ca5a8d2-0d5e-467b-9afd-7460f26fba26"
      },
      "execution_count": null,
      "outputs": [
        {
          "output_type": "execute_result",
          "data": {
            "text/plain": [
              "{'name': 'Jane',\n",
              " 'locale': 'NY, USA',\n",
              " 'mid-term': {'Korean': 80,\n",
              "  'Math': 60,\n",
              "  'English': 90,\n",
              "  'Science': [35, 40, 30, 50]},\n",
              " 'spanish': 0,\n",
              " 'Science': None,\n",
              " 'hi': 0}"
            ]
          },
          "metadata": {},
          "execution_count": 102
        }
      ]
    },
    {
      "cell_type": "code",
      "source": [
        "contact = {\n",
        "    'name': 'John Doe',\n",
        "    'country': 'Netherland',\n",
        "}\n",
        "\n",
        "print(f\"Hello, {contact['name']}, You are from {contact['country']}\".format(**contact))"
      ],
      "metadata": {
        "colab": {
          "base_uri": "https://localhost:8080/"
        },
        "id": "yzUyDE21dWiR",
        "outputId": "2ce65ba5-8d6b-494a-f4a2-11625dc17688"
      },
      "execution_count": null,
      "outputs": [
        {
          "output_type": "stream",
          "name": "stdout",
          "text": [
            "Hello, John Doe, You are from Netherland\n"
          ]
        }
      ]
    },
    {
      "cell_type": "code",
      "source": [
        "contact"
      ],
      "metadata": {
        "colab": {
          "base_uri": "https://localhost:8080/"
        },
        "id": "D3riGJFBd8Zk",
        "outputId": "a4bd9042-9cf5-40f0-ebbb-b2221d523282"
      },
      "execution_count": null,
      "outputs": [
        {
          "output_type": "execute_result",
          "data": {
            "text/plain": [
              "{'name': 'John Doe', 'country': 'Netherland'}"
            ]
          },
          "metadata": {},
          "execution_count": 107
        }
      ]
    },
    {
      "cell_type": "code",
      "source": [
        "contact = {\n",
        "    'name': 'John Doe',\n",
        "    'country': 'Netherland',\n",
        "}\n",
        "\n",
        "print(\"Hello, {name}, You are from {country}\".format(**contact))"
      ],
      "metadata": {
        "colab": {
          "base_uri": "https://localhost:8080/"
        },
        "id": "7u-DDAXjeDT6",
        "outputId": "bd2d821f-dfab-452f-ba76-0ed7560a4535"
      },
      "execution_count": null,
      "outputs": [
        {
          "output_type": "stream",
          "name": "stdout",
          "text": [
            "Hello, John Doe, You are from Netherland\n"
          ]
        }
      ]
    },
    {
      "cell_type": "code",
      "source": [
        "A = set('fastcampus')\n",
        "B = set('python')\n",
        "print(A | B)\n",
        "print(A & B)\n",
        "print(A - B)\n",
        "print(A ^ B)"
      ],
      "metadata": {
        "colab": {
          "base_uri": "https://localhost:8080/"
        },
        "id": "iH_Z-YK0eaCl",
        "outputId": "1b23b864-3165-4ee0-c6b8-b70750a77b7c"
      },
      "execution_count": null,
      "outputs": [
        {
          "output_type": "stream",
          "name": "stdout",
          "text": [
            "{'h', 's', 'u', 'a', 'f', 't', 'c', 'm', 'y', 'n', 'o', 'p'}\n",
            "{'t', 'p'}\n",
            "{'s', 'u', 'a', 'f', 'c', 'm'}\n",
            "{'s', 'u', 'a', 'f', 'c', 'm', 'y', 'n', 'o', 'h'}\n"
          ]
        }
      ]
    },
    {
      "cell_type": "code",
      "source": [
        "faang = {'facebook', 'apple', 'amazon', 'netflix', 'google'}\n",
        "print(faang)"
      ],
      "metadata": {
        "colab": {
          "base_uri": "https://localhost:8080/"
        },
        "id": "abgoU8ZRgOPe",
        "outputId": "3eb9a4e5-1613-40e0-e750-7516731c1fd7"
      },
      "execution_count": null,
      "outputs": [
        {
          "output_type": "stream",
          "name": "stdout",
          "text": [
            "{'facebook', 'apple', 'google', 'amazon', 'netflix'}\n"
          ]
        }
      ]
    },
    {
      "cell_type": "code",
      "source": [
        "split_str = set('facebook')\n",
        "print(split_str)"
      ],
      "metadata": {
        "id": "vlB4wLZegtWp",
        "outputId": "75a83657-fddf-48bc-a7fe-9d55e9556d79",
        "colab": {
          "base_uri": "https://localhost:8080/"
        }
      },
      "execution_count": null,
      "outputs": [
        {
          "output_type": "stream",
          "name": "stdout",
          "text": [
            "{'k', 'a', 'f', 'e', 'c', 'b', 'o'}\n"
          ]
        }
      ]
    },
    {
      "cell_type": "code",
      "source": [
        "cities = [\n",
        "'Daejeon', 'Ulsan', 'Seoul', 'Jeju',\n",
        "'Busan', 'Ulsan', 'Daegu', 'Daejeon',\n",
        "'Seoul', 'Seoul', 'Daejeon', 'Gwangju',\n",
        "'Busan', 'Daegu', 'Gwangju', 'Daejeon',\n",
        "'Ulsan', 'Jeju', 'Gwangju', 'Seoul'\n",
        "]\n",
        "\n",
        "cities = set(cities)\n",
        "cities = list(cities)\n",
        "cities.sort(reverse=True)\n",
        "print(cities)"
      ],
      "metadata": {
        "colab": {
          "base_uri": "https://localhost:8080/"
        },
        "id": "iWY5cNOg3Bu1",
        "outputId": "8e8a92af-fecf-4a79-e3af-74bf9639272b"
      },
      "execution_count": 133,
      "outputs": [
        {
          "output_type": "stream",
          "name": "stdout",
          "text": [
            "['Ulsan', 'Seoul', 'Jeju', 'Gwangju', 'Daejeon', 'Daegu', 'Busan']\n"
          ]
        }
      ]
    },
    {
      "cell_type": "code",
      "source": [
        "n = int(input(\"숫자를 입력하세요: \"))\n",
        "\n",
        "for i in range(1, n + 1):\n",
        "  if (i % 15 == 0):\n",
        "    print(\"fizzbuzz\")\n",
        "  elif (i % 3 == 0):\n",
        "    print(\"fizz\")\n",
        "  elif (i % 5 == 0):\n",
        "    print(\"buzz\")\n",
        "  else:\n",
        "    print(i)"
      ],
      "metadata": {
        "colab": {
          "base_uri": "https://localhost:8080/"
        },
        "id": "1Ei9I744F2lF",
        "outputId": "2dee27eb-4959-4ec2-fc39-02724dd63cac"
      },
      "execution_count": 137,
      "outputs": [
        {
          "output_type": "stream",
          "name": "stdout",
          "text": [
            "숫자를 입력하세요: 15\n",
            "1\n",
            "2\n",
            "fizz\n",
            "4\n",
            "buzz\n",
            "fizz\n",
            "7\n",
            "8\n",
            "fizz\n",
            "buzz\n",
            "11\n",
            "fizz\n",
            "13\n",
            "14\n",
            "fizzbuzz\n"
          ]
        }
      ]
    },
    {
      "cell_type": "code",
      "source": [
        "n = int(input(\"숫자를 입력하세요: \"))\n",
        "\n",
        "for i in range(1, n + 1):\n",
        "  if (i % 3 == 0 or i % 5 == 0):\n",
        "    print(\"fizz\" * (i % 3 == 0) + \"buzz\" * (i % 5 == 0))\n",
        "  else:\n",
        "    print(i)"
      ],
      "metadata": {
        "colab": {
          "base_uri": "https://localhost:8080/"
        },
        "id": "H5sUWrTwnoZg",
        "outputId": "251df963-d73e-46d4-e00f-29b0a9a363fa"
      },
      "execution_count": 172,
      "outputs": [
        {
          "output_type": "stream",
          "name": "stdout",
          "text": [
            "숫자를 입력하세요: 15\n",
            "1\n",
            "2\n",
            "fizz\n",
            "4\n",
            "buzz\n",
            "fizz\n",
            "7\n",
            "8\n",
            "fizz\n",
            "buzz\n",
            "11\n",
            "fizz\n",
            "13\n",
            "14\n",
            "fizzbuzz\n"
          ]
        }
      ]
    },
    {
      "cell_type": "code",
      "source": [
        "n = int(input(\"숫자를 입력하세요: \"))\n",
        "\n",
        "for i in range(1, n + 1):\n",
        "  print(\n",
        "      'fizzbuzz' if i % 15 == 0 else\n",
        "      'fizz' if i % 3 == 0 else\n",
        "      'buzz' if i % 5 == 0 else\n",
        "      i\n",
        "  )"
      ],
      "metadata": {
        "colab": {
          "base_uri": "https://localhost:8080/"
        },
        "id": "0wGv8BCrpUCW",
        "outputId": "920b243b-811d-4aa7-d099-cf6b3d31271c"
      },
      "execution_count": 175,
      "outputs": [
        {
          "output_type": "stream",
          "name": "stdout",
          "text": [
            "숫자를 입력하세요: 15\n",
            "1\n",
            "2\n",
            "fizz\n",
            "4\n",
            "buzz\n",
            "fizz\n",
            "7\n",
            "8\n",
            "fizz\n",
            "buzz\n",
            "11\n",
            "fizz\n",
            "13\n",
            "14\n",
            "fizzbuzz\n"
          ]
        }
      ]
    },
    {
      "cell_type": "code",
      "source": [
        "cost = int(input(\"제품 가격을 입력하세요: \"))\n",
        "country = input(\"거주하고 계시는 나라를 입력하세요: \")\n",
        "\n",
        "\n",
        "if country == \"Korea\":\n",
        "  print(cost, cost * 0.1 + cost)\n",
        "elif country == \"Japan\":\n",
        "  print(cost, cost * 0.08 + cost)\n",
        "elif country == \"USA\":\n",
        "  print(cost, \"depend on state\")\n",
        "elif country == \"UK\":\n",
        "  print(cost, cost * 0.2 + cost)"
      ],
      "metadata": {
        "colab": {
          "base_uri": "https://localhost:8080/"
        },
        "id": "QLaSIhoBH19E",
        "outputId": "c7072884-bbd6-4379-961e-eaad96a35bb4"
      },
      "execution_count": 139,
      "outputs": [
        {
          "output_type": "stream",
          "name": "stdout",
          "text": [
            "제품 가격을 입력하세요: 1000\n",
            "거주하고 계시는 나라를 입력하세요: UK\n",
            "1000 1200.0\n"
          ]
        }
      ]
    },
    {
      "cell_type": "markdown",
      "source": [
        "Conditional Expression<br>\n",
        "Ternary Operator"
      ],
      "metadata": {
        "id": "vymrW2JOUmR4"
      }
    },
    {
      "cell_type": "code",
      "source": [
        "\"a\" if True else \"b\""
      ],
      "metadata": {
        "colab": {
          "base_uri": "https://localhost:8080/",
          "height": 35
        },
        "id": "BViE2YqWUvPj",
        "outputId": "9f6034d3-3e84-4f95-f9c3-ca828ae0013c"
      },
      "execution_count": 140,
      "outputs": [
        {
          "output_type": "execute_result",
          "data": {
            "text/plain": [
              "'a'"
            ],
            "application/vnd.google.colaboratory.intrinsic+json": {
              "type": "string"
            }
          },
          "metadata": {},
          "execution_count": 140
        }
      ]
    },
    {
      "cell_type": "code",
      "source": [
        "\"a\" if False else \"b\""
      ],
      "metadata": {
        "colab": {
          "base_uri": "https://localhost:8080/",
          "height": 35
        },
        "id": "HFFWp_o3U2mo",
        "outputId": "c0cf1645-f911-44dd-c101-924903b976a6"
      },
      "execution_count": 141,
      "outputs": [
        {
          "output_type": "execute_result",
          "data": {
            "text/plain": [
              "'b'"
            ],
            "application/vnd.google.colaboratory.intrinsic+json": {
              "type": "string"
            }
          },
          "metadata": {},
          "execution_count": 141
        }
      ]
    },
    {
      "cell_type": "code",
      "source": [
        "numbers = [1, 3, 5, 7, 9]\n",
        "num = 0\n",
        "\"odd\" if num in numbers else \"even\""
      ],
      "metadata": {
        "colab": {
          "base_uri": "https://localhost:8080/",
          "height": 35
        },
        "id": "Bnu5rLA0VBC5",
        "outputId": "66cc5c20-bcf0-4834-aa3f-2182d133939d"
      },
      "execution_count": 143,
      "outputs": [
        {
          "output_type": "execute_result",
          "data": {
            "text/plain": [
              "'even'"
            ],
            "application/vnd.google.colaboratory.intrinsic+json": {
              "type": "string"
            }
          },
          "metadata": {},
          "execution_count": 143
        }
      ]
    },
    {
      "cell_type": "code",
      "source": [
        "weekdays = ['t', 'w', 't', 'f']\n",
        "user_input = 'w'\n",
        "\n",
        "\"weekday\" if user_input in weekdays else \"what the\" if user_input == \"n\" else \"weekend\""
      ],
      "metadata": {
        "colab": {
          "base_uri": "https://localhost:8080/",
          "height": 35
        },
        "id": "SCkwdW2wWDzJ",
        "outputId": "984df6b0-a5b2-406c-8069-9c30c72dff27"
      },
      "execution_count": 145,
      "outputs": [
        {
          "output_type": "execute_result",
          "data": {
            "text/plain": [
              "'weekday'"
            ],
            "application/vnd.google.colaboratory.intrinsic+json": {
              "type": "string"
            }
          },
          "metadata": {},
          "execution_count": 145
        }
      ]
    },
    {
      "cell_type": "code",
      "source": [
        "year = int(input(\"년도를 입력하세요 \"))\n",
        "\n",
        "if year % 4 == 0:\n",
        "  if year % 400 != 0 and year % 100 == 0:\n",
        "      print(\"윤년이 아니다.\")\n",
        "  else:\n",
        "      print(\"윤년이다.\")"
      ],
      "metadata": {
        "colab": {
          "base_uri": "https://localhost:8080/"
        },
        "id": "uzn3h4sqYNJP",
        "outputId": "a852feb0-449c-4a19-d2d6-0e9047dfc213"
      },
      "execution_count": 147,
      "outputs": [
        {
          "output_type": "stream",
          "name": "stdout",
          "text": [
            "년도를 입력하세요2400\n",
            "윤년이다.\n"
          ]
        }
      ]
    },
    {
      "cell_type": "markdown",
      "source": [
        "Loop<br>\n",
        "For, While Statement"
      ],
      "metadata": {
        "id": "3yiM4-gSfVgK"
      }
    },
    {
      "cell_type": "code",
      "source": [
        "list(range(10))"
      ],
      "metadata": {
        "colab": {
          "base_uri": "https://localhost:8080/"
        },
        "id": "OsCvKFaAfaaq",
        "outputId": "3fb4e5e0-073e-4b43-bd0a-0a3c8fa3d305"
      },
      "execution_count": 148,
      "outputs": [
        {
          "output_type": "execute_result",
          "data": {
            "text/plain": [
              "[0, 1, 2, 3, 4, 5, 6, 7, 8, 9]"
            ]
          },
          "metadata": {},
          "execution_count": 148
        }
      ]
    },
    {
      "cell_type": "code",
      "source": [
        "list(range(1, 10))"
      ],
      "metadata": {
        "colab": {
          "base_uri": "https://localhost:8080/"
        },
        "id": "2DTFAByHfjRj",
        "outputId": "98c71ec3-a01a-4eae-b0d3-24fa40a4cd16"
      },
      "execution_count": 149,
      "outputs": [
        {
          "output_type": "execute_result",
          "data": {
            "text/plain": [
              "[1, 2, 3, 4, 5, 6, 7, 8, 9]"
            ]
          },
          "metadata": {},
          "execution_count": 149
        }
      ]
    },
    {
      "cell_type": "code",
      "source": [
        "for i in range(1, 10 + 1):\n",
        "  print(i)"
      ],
      "metadata": {
        "colab": {
          "base_uri": "https://localhost:8080/"
        },
        "id": "h_q0DOrRflG8",
        "outputId": "59c005b6-f9bc-4d44-bcf0-37aaa7bacdc7"
      },
      "execution_count": 150,
      "outputs": [
        {
          "output_type": "stream",
          "name": "stdout",
          "text": [
            "1\n",
            "2\n",
            "3\n",
            "4\n",
            "5\n",
            "6\n",
            "7\n",
            "8\n",
            "9\n",
            "10\n"
          ]
        }
      ]
    },
    {
      "cell_type": "code",
      "source": [
        "for c in \"ShinhanProDigitalAcademy\":\n",
        "  print(c, end=' ')"
      ],
      "metadata": {
        "colab": {
          "base_uri": "https://localhost:8080/"
        },
        "id": "_KHrGYYbgOqt",
        "outputId": "b1ce90fc-3bab-4043-9d14-af27c93b0b2a"
      },
      "execution_count": 154,
      "outputs": [
        {
          "output_type": "stream",
          "name": "stdout",
          "text": [
            "S h i n h a n P r o D i g i t a l A c a d e m y "
          ]
        }
      ]
    },
    {
      "cell_type": "code",
      "source": [
        "for item in ['cat', 'dog', 'hamster']:\n",
        "  print(f'{item} is so cute!!!')"
      ],
      "metadata": {
        "colab": {
          "base_uri": "https://localhost:8080/"
        },
        "id": "gshb-GR6ghhQ",
        "outputId": "77c7b479-7be1-46a4-e805-757fb94cb157"
      },
      "execution_count": 155,
      "outputs": [
        {
          "output_type": "stream",
          "name": "stdout",
          "text": [
            "cat is so cute!!!\n",
            "dog is so cute!!!\n",
            "hamster is so cute!!!\n"
          ]
        }
      ]
    },
    {
      "cell_type": "code",
      "source": [
        "for i in range(1, 100 + 1):\n",
        "  if i % 2 == 0 or i % 3 == 0:\n",
        "    continue\n",
        "  elif (i % 17 == 0):\n",
        "    break\n",
        "  else:\n",
        "    print(f'{i} is survived')"
      ],
      "metadata": {
        "colab": {
          "base_uri": "https://localhost:8080/"
        },
        "id": "-SxdpEh5g-39",
        "outputId": "daea2d76-b79f-41f4-b96d-c4e92e7deb21"
      },
      "execution_count": 157,
      "outputs": [
        {
          "output_type": "stream",
          "name": "stdout",
          "text": [
            "1 is survived\n",
            "5 is survived\n",
            "7 is survived\n",
            "11 is survived\n",
            "13 is survived\n"
          ]
        }
      ]
    },
    {
      "cell_type": "code",
      "source": [
        "i = 0\n",
        "while i < 10:\n",
        "  print(i)\n",
        "  i += 1"
      ],
      "metadata": {
        "colab": {
          "base_uri": "https://localhost:8080/"
        },
        "id": "uj6KnwuBiONt",
        "outputId": "4542da4c-e9dc-4be6-e742-86e7e54d0c23"
      },
      "execution_count": 160,
      "outputs": [
        {
          "output_type": "stream",
          "name": "stdout",
          "text": [
            "0\n",
            "1\n",
            "2\n",
            "3\n",
            "4\n",
            "5\n",
            "6\n",
            "7\n",
            "8\n",
            "9\n"
          ]
        }
      ]
    },
    {
      "cell_type": "code",
      "source": [
        "user_input = \"\"\n",
        "\n",
        "while user_input != \"taco\":\n",
        "  user_input = input(\"What do you want for dinner? \")\n",
        "  if user_input != 'taco':\n",
        "    print('Not like that!!')\n",
        "  else:\n",
        "    print('That is what I wanted!')"
      ],
      "metadata": {
        "colab": {
          "base_uri": "https://localhost:8080/"
        },
        "id": "aLHlwEMTi9V4",
        "outputId": "941932d0-5afe-4911-efee-1778c7cbfc38"
      },
      "execution_count": 164,
      "outputs": [
        {
          "output_type": "stream",
          "name": "stdout",
          "text": [
            "What do you want for dinner? taco\n",
            "That is what I wanted!\n"
          ]
        }
      ]
    }
  ]
}