{
  "nbformat": 4,
  "nbformat_minor": 0,
  "metadata": {
    "colab": {
      "provenance": [],
      "authorship_tag": "ABX9TyNIHoBYv6LmHcxOaAIVqcgI"
    },
    "kernelspec": {
      "name": "python3",
      "display_name": "Python 3"
    },
    "language_info": {
      "name": "python"
    }
  },
  "cells": [
    {
      "cell_type": "markdown",
      "source": [
        "Data type"
      ],
      "metadata": {
        "id": "imboa5uL3FsE"
      }
    },
    {
      "cell_type": "code",
      "source": [
        "type(\"Jane Doe\")"
      ],
      "metadata": {
        "colab": {
          "base_uri": "https://localhost:8080/"
        },
        "id": "_M0ANquA38lv",
        "outputId": "ceedcf8c-ae16-40d2-e832-e197f08ff4c4"
      },
      "execution_count": 5,
      "outputs": [
        {
          "output_type": "execute_result",
          "data": {
            "text/plain": [
              "str"
            ]
          },
          "metadata": {},
          "execution_count": 5
        }
      ]
    },
    {
      "cell_type": "code",
      "source": [
        "# multi-line string\n",
        "\"\"\"\n",
        "Line 1\n",
        "Line 2\n",
        "\"\"\""
      ],
      "metadata": {
        "colab": {
          "base_uri": "https://localhost:8080/",
          "height": 35
        },
        "id": "p96FeFA_3ycF",
        "outputId": "b4afa7ae-33ae-466b-e963-9244f759e1a5"
      },
      "execution_count": 4,
      "outputs": [
        {
          "output_type": "execute_result",
          "data": {
            "text/plain": [
              "'\\nLine 1\\nLine 2\\n'"
            ],
            "application/vnd.google.colaboratory.intrinsic+json": {
              "type": "string"
            }
          },
          "metadata": {},
          "execution_count": 4
        }
      ]
    },
    {
      "cell_type": "markdown",
      "source": [
        "Syntex Error : 문법 오류<br>\n",
        "EOL : End of Line"
      ],
      "metadata": {
        "id": "4rVwrcE_4pmD"
      }
    },
    {
      "cell_type": "code",
      "source": [
        "# Integer: 정수\n",
        "\n",
        "print(3)\n",
        "\n",
        "# floating point : 실수\n",
        "\n",
        "print(3.14)"
      ],
      "metadata": {
        "colab": {
          "base_uri": "https://localhost:8080/"
        },
        "id": "4GMtT7ky466v",
        "outputId": "df37d643-6d35-40bc-9f05-026648d4d9ad"
      },
      "execution_count": 7,
      "outputs": [
        {
          "output_type": "stream",
          "name": "stdout",
          "text": [
            "3\n",
            "3.14\n"
          ]
        }
      ]
    },
    {
      "cell_type": "code",
      "source": [
        "## Arithmetic Operator\n",
        "## + - * / // % **\n",
        "\n",
        "print(1 + 4)\n",
        "print(1 - 5)\n",
        "print(3.14 * 5)\n",
        "print(2.7 / 8)\n",
        "print(5.7 // 2)\n",
        "print(5 % 2)\n",
        "print(3 ** 2)"
      ],
      "metadata": {
        "colab": {
          "base_uri": "https://localhost:8080/"
        },
        "id": "6QKjt95m5nbW",
        "outputId": "3c71b7cd-7e96-42f7-bbb4-3da6592999c6"
      },
      "execution_count": 8,
      "outputs": [
        {
          "output_type": "stream",
          "name": "stdout",
          "text": [
            "5\n",
            "-4\n",
            "15.700000000000001\n",
            "0.3375\n",
            "2.0\n",
            "1\n",
            "9\n"
          ]
        }
      ]
    },
    {
      "cell_type": "code",
      "source": [
        "## Comparative Operator\n",
        "print(7 > 3)"
      ],
      "metadata": {
        "colab": {
          "base_uri": "https://localhost:8080/"
        },
        "id": "OY00oybG-lEH",
        "outputId": "99a48453-d7cb-4271-a6b1-ff70299c71a7"
      },
      "execution_count": 9,
      "outputs": [
        {
          "output_type": "stream",
          "name": "stdout",
          "text": [
            "True\n"
          ]
        }
      ]
    },
    {
      "cell_type": "code",
      "source": [
        "username = \"John Doe\"\n",
        "print(\"Hello,\", username)"
      ],
      "metadata": {
        "colab": {
          "base_uri": "https://localhost:8080/"
        },
        "id": "HP2pO_vYAVt0",
        "outputId": "5d2808b4-81ac-402d-c36b-63b87a85ce07"
      },
      "execution_count": 10,
      "outputs": [
        {
          "output_type": "stream",
          "name": "stdout",
          "text": [
            "Hello, John Doe\n"
          ]
        }
      ]
    },
    {
      "cell_type": "markdown",
      "source": [
        "변수 사용의 중요성 : 재사용성"
      ],
      "metadata": {
        "id": "laHD3jC_BL_f"
      }
    },
    {
      "cell_type": "code",
      "source": [
        "r = 10\n",
        "d = 2 * r\n",
        "c = 2 * math.pi * r\n",
        "a = math.pi * r * r\n",
        "gnb = 4 * math.pi * r * r\n",
        "v = (4 * math.pi * r * r * r) / 3\n",
        "\n",
        "print(r)\n",
        "print(d)\n",
        "print(c)\n",
        "print(a)\n",
        "print(gnb)\n",
        "print(v)"
      ],
      "metadata": {
        "colab": {
          "base_uri": "https://localhost:8080/"
        },
        "id": "vW3G7hOtBWli",
        "outputId": "93cdfd90-a1fe-4e13-cd2e-d3b66952767d"
      },
      "execution_count": 20,
      "outputs": [
        {
          "output_type": "stream",
          "name": "stdout",
          "text": [
            "10\n",
            "20\n",
            "62.83185307179586\n",
            "314.1592653589793\n",
            "1256.6370614359173\n",
            "4188.790204786391\n"
          ]
        }
      ]
    },
    {
      "cell_type": "code",
      "source": [
        "comma = \"-\"\n",
        "func = comma.join(\"hi333\")\n",
        "print(func)"
      ],
      "metadata": {
        "colab": {
          "base_uri": "https://localhost:8080/"
        },
        "id": "JvifnOTBEQUI",
        "outputId": "5ffe9556-d75e-4ccd-a501-d0508f7b35cd"
      },
      "execution_count": 26,
      "outputs": [
        {
          "output_type": "stream",
          "name": "stdout",
          "text": [
            "h-i-3-3-3\n"
          ]
        }
      ]
    },
    {
      "cell_type": "code",
      "source": [
        "print(\"dfd\",\"aaaa\",sep='-')"
      ],
      "metadata": {
        "colab": {
          "base_uri": "https://localhost:8080/"
        },
        "id": "HI3CJRdMFEx5",
        "outputId": "6f8916b7-8338-45a1-c6f5-e316e3311d29"
      },
      "execution_count": 28,
      "outputs": [
        {
          "output_type": "stream",
          "name": "stdout",
          "text": [
            "dfd-aaaa\n"
          ]
        }
      ]
    },
    {
      "cell_type": "code",
      "source": [
        "a = []\n",
        "for _ in range(5):\n",
        "  x = input()\n",
        "  a.append(x)\n",
        "\n",
        "for i in a:\n",
        "  print(i)"
      ],
      "metadata": {
        "colab": {
          "base_uri": "https://localhost:8080/"
        },
        "id": "Kj5pSUHIFQcj",
        "outputId": "4de009c7-03dc-4113-c354-1400cbc9aeb0"
      },
      "execution_count": 30,
      "outputs": [
        {
          "output_type": "stream",
          "name": "stdout",
          "text": [
            "3\n",
            "hi\n",
            "bye\n",
            "5\n",
            "10\n",
            "3\n",
            "hi\n",
            "bye\n",
            "5\n",
            "10\n"
          ]
        }
      ]
    },
    {
      "cell_type": "code",
      "source": [
        "print(\"I have a {}, I have an {}\".format('3'.isdigit(), 'a'.isalpha()))"
      ],
      "metadata": {
        "colab": {
          "base_uri": "https://localhost:8080/"
        },
        "id": "ftwndstGGHNZ",
        "outputId": "12495ec4-0d7b-4373-f570-58052804538f"
      },
      "execution_count": 31,
      "outputs": [
        {
          "output_type": "stream",
          "name": "stdout",
          "text": [
            "I have a True, I have an True\n"
          ]
        }
      ]
    },
    {
      "cell_type": "markdown",
      "source": [
        "Type Casting"
      ],
      "metadata": {
        "id": "9QxMDdFZwQ4q"
      }
    },
    {
      "cell_type": "code",
      "source": [
        "print(type(3))\n",
        "print(type(float(3)))"
      ],
      "metadata": {
        "colab": {
          "base_uri": "https://localhost:8080/"
        },
        "id": "Kb9j1SwvwTmQ",
        "outputId": "9175b4d8-e4f7-4bc4-d797-e53da3409315"
      },
      "execution_count": 1,
      "outputs": [
        {
          "output_type": "stream",
          "name": "stdout",
          "text": [
            "<class 'int'>\n",
            "<class 'float'>\n"
          ]
        }
      ]
    },
    {
      "cell_type": "code",
      "source": [
        "int(2.718)"
      ],
      "metadata": {
        "colab": {
          "base_uri": "https://localhost:8080/"
        },
        "id": "Q3ILYYhexVpD",
        "outputId": "5c9d6234-857c-4399-fce0-6b4d3792ac2b"
      },
      "execution_count": 2,
      "outputs": [
        {
          "output_type": "execute_result",
          "data": {
            "text/plain": [
              "2"
            ]
          },
          "metadata": {},
          "execution_count": 2
        }
      ]
    },
    {
      "cell_type": "code",
      "source": [
        "round(2.71, 2)"
      ],
      "metadata": {
        "colab": {
          "base_uri": "https://localhost:8080/"
        },
        "id": "JFYnMFnfxZGz",
        "outputId": "3df4a12c-bf96-426c-c008-d84e6c44bea8"
      },
      "execution_count": 4,
      "outputs": [
        {
          "output_type": "execute_result",
          "data": {
            "text/plain": [
              "2.71"
            ]
          },
          "metadata": {},
          "execution_count": 4
        }
      ]
    },
    {
      "cell_type": "code",
      "source": [
        "username = input(\"what is your name?\")"
      ],
      "metadata": {
        "colab": {
          "base_uri": "https://localhost:8080/"
        },
        "id": "IztTanZEyN6u",
        "outputId": "530fde0e-5c36-4a22-8478-417701f22a23"
      },
      "execution_count": 5,
      "outputs": [
        {
          "name": "stdout",
          "output_type": "stream",
          "text": [
            "what is your name?jungwoo\n"
          ]
        }
      ]
    },
    {
      "cell_type": "code",
      "source": [
        "memo = eval(input(\"Say anything > \"))\n",
        "print(memo, type(memo))"
      ],
      "metadata": {
        "colab": {
          "base_uri": "https://localhost:8080/"
        },
        "id": "V4-favC90QWn",
        "outputId": "4c1b1938-e3ae-4384-df73-0c19da1b4ebe"
      },
      "execution_count": 8,
      "outputs": [
        {
          "output_type": "stream",
          "name": "stdout",
          "text": [
            "Say anything > 3 + 4\n",
            "7 <class 'int'>\n"
          ]
        }
      ]
    },
    {
      "cell_type": "code",
      "source": [
        "import math\n",
        "r = int(input(\"반지름을 입력하세요\"))\n",
        "\n",
        "d = 2 * r\n",
        "c = 2 * math.pi * r\n",
        "a = math.pi * r * r\n",
        "gnb = 4 * math.pi * r * r\n",
        "v = (4 * math.pi * r * r * r) / 3\n",
        "\n",
        "print(r, d, c, a, gnb, v, sep=\"\\n\")"
      ],
      "metadata": {
        "colab": {
          "base_uri": "https://localhost:8080/"
        },
        "id": "-5DZQX3H1Fsa",
        "outputId": "18c1bd43-9b4d-41e7-f356-a936a7d834b1"
      },
      "execution_count": 12,
      "outputs": [
        {
          "output_type": "stream",
          "name": "stdout",
          "text": [
            "반지름을 입력하세요20\n",
            "20\n",
            "40\n",
            "125.66370614359172\n",
            "1256.6370614359173\n",
            "5026.548245743669\n",
            "33510.32163829113\n"
          ]
        }
      ]
    },
    {
      "cell_type": "code",
      "source": [
        "some_string = \"python\"\n",
        "print(len(some_string))"
      ],
      "metadata": {
        "colab": {
          "base_uri": "https://localhost:8080/"
        },
        "id": "TDOC_QK68ajI",
        "outputId": "40449557-727b-478e-f509-1f906ac3f0f3"
      },
      "execution_count": 14,
      "outputs": [
        {
          "output_type": "stream",
          "name": "stdout",
          "text": [
            "6\n"
          ]
        }
      ]
    },
    {
      "cell_type": "code",
      "source": [
        "some_string[2]"
      ],
      "metadata": {
        "colab": {
          "base_uri": "https://localhost:8080/",
          "height": 35
        },
        "id": "3vbwiMp58tOk",
        "outputId": "f4a25057-d2f5-42c6-c9fa-1950abb36734"
      },
      "execution_count": 15,
      "outputs": [
        {
          "output_type": "execute_result",
          "data": {
            "text/plain": [
              "'t'"
            ],
            "application/vnd.google.colaboratory.intrinsic+json": {
              "type": "string"
            }
          },
          "metadata": {},
          "execution_count": 15
        }
      ]
    },
    {
      "cell_type": "code",
      "source": [
        "some_string[1:4]"
      ],
      "metadata": {
        "colab": {
          "base_uri": "https://localhost:8080/",
          "height": 35
        },
        "id": "cI3HGZjg8_Ul",
        "outputId": "3f697ea1-8e1c-48bc-c297-2d928af006da"
      },
      "execution_count": 16,
      "outputs": [
        {
          "output_type": "execute_result",
          "data": {
            "text/plain": [
              "'yth'"
            ],
            "application/vnd.google.colaboratory.intrinsic+json": {
              "type": "string"
            }
          },
          "metadata": {},
          "execution_count": 16
        }
      ]
    },
    {
      "cell_type": "code",
      "source": [
        "some_string[1:5+1:2]"
      ],
      "metadata": {
        "colab": {
          "base_uri": "https://localhost:8080/",
          "height": 35
        },
        "id": "DYVsE2q39ckd",
        "outputId": "9bc9ad94-a24d-44eb-823d-1235e98032eb"
      },
      "execution_count": 18,
      "outputs": [
        {
          "output_type": "execute_result",
          "data": {
            "text/plain": [
              "'yhn'"
            ],
            "application/vnd.google.colaboratory.intrinsic+json": {
              "type": "string"
            }
          },
          "metadata": {},
          "execution_count": 18
        }
      ]
    },
    {
      "cell_type": "code",
      "source": [
        "some = 'J' + some_string[1:]\n",
        "print(some)"
      ],
      "metadata": {
        "colab": {
          "base_uri": "https://localhost:8080/"
        },
        "id": "GglrD4aA-jBN",
        "outputId": "7ac7047c-7831-485c-94b6-f8e71b9c1d3f"
      },
      "execution_count": 20,
      "outputs": [
        {
          "output_type": "stream",
          "name": "stdout",
          "text": [
            "Jython\n"
          ]
        }
      ]
    },
    {
      "cell_type": "code",
      "source": [
        "func = \"python is easy programming language\"\n",
        "print(func.count('s'))\n",
        "print(func.find('s'))"
      ],
      "metadata": {
        "colab": {
          "base_uri": "https://localhost:8080/"
        },
        "id": "jjnkrA0S_VJl",
        "outputId": "42bcfdf4-5b54-490a-e294-34090adfcd26"
      },
      "execution_count": 23,
      "outputs": [
        {
          "output_type": "stream",
          "name": "stdout",
          "text": [
            "2\n",
            "8\n"
          ]
        }
      ]
    },
    {
      "cell_type": "code",
      "source": [
        "func = \"python is easy programming language\"\n",
        "comma = \",\"\n",
        "func1 = comma.join(func)\n",
        "print(func1)\n",
        "\n",
        "pe = func.split(' ')\n",
        "print(pe)"
      ],
      "metadata": {
        "colab": {
          "base_uri": "https://localhost:8080/"
        },
        "id": "du-Y3A81AUYD",
        "outputId": "6e889e86-2e8c-4f0c-db55-d67b2c99998b"
      },
      "execution_count": 29,
      "outputs": [
        {
          "output_type": "stream",
          "name": "stdout",
          "text": [
            "p,y,t,h,o,n, ,i,s, ,e,a,s,y, ,p,r,o,g,r,a,m,m,i,n,g, ,l,a,n,g,u,a,g,e\n",
            "['python', 'is', 'easy', 'programming', 'language']\n"
          ]
        }
      ]
    },
    {
      "cell_type": "code",
      "source": [
        "func = \"python is good\"\n",
        "print(func.replace(\"python\", \"c++\"))"
      ],
      "metadata": {
        "colab": {
          "base_uri": "https://localhost:8080/"
        },
        "id": "8tbPRjw7BKA6",
        "outputId": "8ace9cb8-2cf1-459e-e950-7baf50f23c49"
      },
      "execution_count": 30,
      "outputs": [
        {
          "output_type": "stream",
          "name": "stdout",
          "text": [
            "c++ is good\n"
          ]
        }
      ]
    },
    {
      "cell_type": "code",
      "source": [
        "func = \",,,...hi,,,....\"\n",
        "print(func.strip(\",.\"))"
      ],
      "metadata": {
        "colab": {
          "base_uri": "https://localhost:8080/"
        },
        "id": "js0yha90CAwl",
        "outputId": "8ebf262e-8105-4dab-eb55-db43d910684c"
      },
      "execution_count": 33,
      "outputs": [
        {
          "output_type": "stream",
          "name": "stdout",
          "text": [
            "hi\n"
          ]
        }
      ]
    },
    {
      "cell_type": "code",
      "source": [
        "username = input(\"username > \")\n",
        "userpw = input(\"enter ps > \")\n",
        "\n",
        "print(f\"so, you are {username}, your ps is {userpw}\")"
      ],
      "metadata": {
        "colab": {
          "base_uri": "https://localhost:8080/"
        },
        "id": "WSk87RpcDN1T",
        "outputId": "2838ca61-0baa-444a-a8f4-62ba08a5d174"
      },
      "execution_count": 35,
      "outputs": [
        {
          "output_type": "stream",
          "name": "stdout",
          "text": [
            "username > jungwoo\n",
            "enter ps > 12\n",
            "so, you are jungwoo, your ps is 12\n"
          ]
        }
      ]
    },
    {
      "cell_type": "markdown",
      "source": [],
      "metadata": {
        "id": "U6syipvVLVaA"
      }
    },
    {
      "cell_type": "code",
      "source": [
        "number = input(\"전화번호를 입력하세요: \")\n",
        "#number = \"010-7211-4706\"\n",
        "\n",
        "number = number.replace(\" \", \"-\")\n",
        "numlist = number.split('-')\n",
        "result = '-'.join(numlist)\n",
        "print(result)"
      ],
      "metadata": {
        "colab": {
          "base_uri": "https://localhost:8080/"
        },
        "id": "xqnxY9XtIm8O",
        "outputId": "1b081573-5e99-4b48-843c-1e6c52aed114"
      },
      "execution_count": 56,
      "outputs": [
        {
          "output_type": "stream",
          "name": "stdout",
          "text": [
            "전화번호를 입력하세요: 010 7211-4706\n",
            "010-7211-4706\n"
          ]
        }
      ]
    },
    {
      "cell_type": "code",
      "source": [
        "s = input(\"입력하세요 : \")\n",
        "\n",
        "print(\"isalpha: {}, isdigit: {}, isalnum: {}, islower: {}, isupper: {}\".format(s.isalpha(), s.isdigit(), s.isalnum(), s.islower(), s.isupper()))"
      ],
      "metadata": {
        "colab": {
          "base_uri": "https://localhost:8080/"
        },
        "id": "LbyJ0sQJKVCu",
        "outputId": "1613f86c-6927-4e68-a8fb-cf9c00dacd3f"
      },
      "execution_count": 48,
      "outputs": [
        {
          "output_type": "stream",
          "name": "stdout",
          "text": [
            "입력하세요 : fast\n",
            "isalpha: True, isdigit: False, isalnum: True, islower: True, isupper: False\n"
          ]
        }
      ]
    },
    {
      "cell_type": "code",
      "source": [
        "from random import randint\n",
        "randint(1, 100)"
      ],
      "metadata": {
        "colab": {
          "base_uri": "https://localhost:8080/"
        },
        "id": "z3eMjydLULMX",
        "outputId": "94b31421-d939-4ab1-b360-c455a5cef294"
      },
      "execution_count": 51,
      "outputs": [
        {
          "output_type": "execute_result",
          "data": {
            "text/plain": [
              "33"
            ]
          },
          "metadata": {},
          "execution_count": 51
        }
      ]
    },
    {
      "cell_type": "markdown",
      "source": [
        "서로 github numguess에 들어가서<br>\n",
        "issues에 들어가기<br>\n",
        "\n"
      ],
      "metadata": {
        "id": "54d59yi4Ubp-"
      }
    },
    {
      "cell_type": "code",
      "source": [
        "from random import randint\n",
        "answer = randint(1, 100)\n",
        "\n",
        "name = input(\"what is your name? \")\n",
        "print(\"HI, {}\".format(name))\n",
        "guess = int(input(\"what is your guess number? \"))\n",
        "print(\"your guess: {}, answer: {}\".format(guess, answer))"
      ],
      "metadata": {
        "colab": {
          "base_uri": "https://localhost:8080/"
        },
        "id": "yQMHymPPZDS5",
        "outputId": "3e1428df-9df5-4234-ad5b-693d7ad76f8d"
      },
      "execution_count": 55,
      "outputs": [
        {
          "output_type": "stream",
          "name": "stdout",
          "text": [
            "what is your name? jungwoo\n",
            "HI, jungwoo\n",
            "what is your guess number? 30\n",
            "your guess: 30, answer: 79\n"
          ]
        }
      ]
    }
  ]
}